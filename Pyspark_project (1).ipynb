{
 "cells": [
  {
   "cell_type": "markdown",
   "metadata": {
    "application/vnd.databricks.v1+cell": {
     "cellMetadata": {
      "byteLimit": 2048000,
      "rowLimit": 10000
     },
     "inputWidgets": {},
     "nuid": "f27aba47-15e3-4408-9a45-c8003eb3b2e4",
     "showTitle": false,
     "tableResultSettingsMap": {},
     "title": ""
    }
   },
   "source": [
    "'''Customer Analytics for E-commerce Platform:\n",
    "Build an ETL pipeline using Apache Spark to process customer data from an e-commerce platform and generate analytics reports.\n",
    "Customer Data: Customer details like name, email, address, signup date, etc.\n",
    "Order Data: Information about orders, products, prices, timestamps, quantities, etc.\n",
    "Product Data: Product details like name, category, price, stock, etc.\n",
    "Shipping Data: Shipping details including delivery times, status, etc.\n",
    "You can use publicly available datasets or create a synthetic dataset using tools like Mockaroo or Faker to generate data for this purpose.\n",
    " \n",
    "Ingest Data from Various Sources: Assume that the data comes from CSV, Parquet, or JSON files\n",
    "Data Cleaning & Preprocessing:\n",
    "\tHandle missing values (impute or drop missing values).\n",
    "\tConvert timestamps and data types as needed.\n",
    "calculate the running total of orders\n",
    "Calculate key metrics like total order value per customer, average order size\n",
    "Filter data for customers who spent over a certain threshold >500 rs spent \n",
    "Perform transformations to identify the highest-value product category, or calculate the longest shipping delays by joining product and shipping data\n",
    "you could plot the distribution of customer spending or visualize the shipping delays for top products[Matplotlib/Seaborn to visualize trends]\n",
    " \n",
    "Conclusion: \n",
    "Which product categories generate the most revenue\n",
    "What are the key characteristics of high-value customers.\n",
    "Average shipping times by product category.'''"
   ]
  },
  {
   "cell_type": "markdown",
   "metadata": {
    "application/vnd.databricks.v1+cell": {
     "cellMetadata": {
      "byteLimit": 2048000,
      "rowLimit": 10000
     },
     "inputWidgets": {},
     "nuid": "f065d30b-1405-493f-983f-57f7b6e723d4",
     "showTitle": false,
     "tableResultSettingsMap": {},
     "title": ""
    }
   },
   "source": [
    "####checking all the tables / files uploaded"
   ]
  },
  {
   "cell_type": "code",
   "execution_count": 0,
   "metadata": {
    "application/vnd.databricks.v1+cell": {
     "cellMetadata": {
      "byteLimit": 2048000,
      "rowLimit": 10000
     },
     "inputWidgets": {},
     "nuid": "89e0b5f7-eba9-4ed2-a907-e8a65a0109c4",
     "showTitle": false,
     "tableResultSettingsMap": {},
     "title": ""
    }
   },
   "outputs": [
    {
     "output_type": "stream",
     "name": "stdout",
     "output_type": "stream",
     "text": [
      "Out[2]: [FileInfo(path='dbfs:/FileStore/tables/BigMart_Sales.csv', name='BigMart_Sales.csv', size=869537, modificationTime=1737616113000),\n FileInfo(path='dbfs:/FileStore/tables/CSV/', name='CSV/', size=0, modificationTime=0),\n FileInfo(path='dbfs:/FileStore/tables/customers__1_.csv', name='customers__1_.csv', size=100385, modificationTime=1741771898000),\n FileInfo(path='dbfs:/FileStore/tables/drivers.json', name='drivers.json', size=180812, modificationTime=1737617396000),\n FileInfo(path='dbfs:/FileStore/tables/orders.csv', name='orders.csv', size=167862, modificationTime=1741770576000),\n FileInfo(path='dbfs:/FileStore/tables/products.csv', name='products.csv', size=3087, modificationTime=1741770577000),\n FileInfo(path='dbfs:/FileStore/tables/products1.csv', name='products1.csv', size=3338, modificationTime=1742195105000),\n FileInfo(path='dbfs:/FileStore/tables/shipping-1.csv', name='shipping-1.csv', size=132386, modificationTime=1742193727000),\n FileInfo(path='dbfs:/FileStore/tables/shipping.csv', name='shipping.csv', size=139151, modificationTime=1741770576000),\n FileInfo(path='dbfs:/FileStore/tables/temp1/', name='temp1/', size=0, modificationTime=0)]"
     ]
    }
   ],
   "source": [
    "dbutils.fs.ls('/FileStore/tables/')\n",
    "#to see the list of files in filestore to get the links"
   ]
  },
  {
   "cell_type": "markdown",
   "metadata": {
    "application/vnd.databricks.v1+cell": {
     "cellMetadata": {
      "byteLimit": 2048000,
      "rowLimit": 10000
     },
     "inputWidgets": {},
     "nuid": "d26847ac-b594-457b-9e68-63628f678dcb",
     "showTitle": false,
     "tableResultSettingsMap": {},
     "title": ""
    }
   },
   "source": [
    "### loading data and creating dataframes"
   ]
  },
  {
   "cell_type": "code",
   "execution_count": 0,
   "metadata": {
    "application/vnd.databricks.v1+cell": {
     "cellMetadata": {
      "byteLimit": 2048000,
      "rowLimit": 10000
     },
     "inputWidgets": {},
     "nuid": "8a8cfd37-7e1f-41d0-a4f9-431c6cd9144f",
     "showTitle": false,
     "tableResultSettingsMap": {},
     "title": ""
    }
   },
   "outputs": [],
   "source": [
    "#loading datasets as df_custoemrs,df_orders,df_shipping,df_products\n",
    "df_orders=spark.read.csv('/FileStore/tables/orders.csv',header=True,inferSchema=True)\n",
    "df_customers=spark.read.csv('/FileStore/tables/customers__1_.csv',header=True,inferSchema=True)\n",
    "df_products=spark.read.csv('/FileStore/tables/products1.csv',header=True,inferSchema=True)\n",
    "df_shipping=spark.read.csv('/FileStore/tables/shipping-1.csv',header=True,inferSchema=True)\n"
   ]
  },
  {
   "cell_type": "code",
   "execution_count": 0,
   "metadata": {
    "application/vnd.databricks.v1+cell": {
     "cellMetadata": {
      "byteLimit": 2048000,
      "rowLimit": 10000
     },
     "inputWidgets": {},
     "nuid": "e65e6060-3ca2-48d0-8978-59305a188b66",
     "showTitle": false,
     "tableResultSettingsMap": {},
     "title": ""
    }
   },
   "outputs": [
    {
     "output_type": "stream",
     "name": "stdout",
     "output_type": "stream",
     "text": [
      "root\n |-- customer_id: integer (nullable = true)\n |-- name: string (nullable = true)\n |-- email: string (nullable = true)\n |-- address: string (nullable = true)\n |-- signup_date: date (nullable = true)\n\nroot\n |-- order_id: integer (nullable = true)\n |-- customer_id: integer (nullable = true)\n |-- product_id: integer (nullable = true)\n |-- order_date: date (nullable = true)\n |-- quantity: integer (nullable = true)\n |-- total_price: double (nullable = true)\n\nroot\n |-- product_id: integer (nullable = true)\n |-- product_name: string (nullable = true)\n |-- category: string (nullable = true)\n |-- price: double (nullable = true)\n |-- stock_quantity: integer (nullable = true)\n\nroot\n |-- order_id: integer (nullable = true)\n |-- delivery_date: date (nullable = true)\n |-- status: string (nullable = true)\n\n"
     ]
    }
   ],
   "source": [
    "# data loaded to dfs successfully\n",
    "df_customers.printSchema()\n",
    "df_orders.printSchema()\n",
    "df_products.printSchema()\n",
    "df_shipping.printSchema()\n"
   ]
  },
  {
   "cell_type": "markdown",
   "metadata": {
    "application/vnd.databricks.v1+cell": {
     "cellMetadata": {
      "byteLimit": 2048000,
      "rowLimit": 10000
     },
     "inputWidgets": {},
     "nuid": "f3298b90-06b1-482c-8520-f0a119434db2",
     "showTitle": false,
     "tableResultSettingsMap": {},
     "title": ""
    }
   },
   "source": [
    "## Handle missing values (impute or drop missing values)."
   ]
  },
  {
   "cell_type": "code",
   "execution_count": 0,
   "metadata": {
    "application/vnd.databricks.v1+cell": {
     "cellMetadata": {
      "byteLimit": 2048000,
      "rowLimit": 10000
     },
     "inputWidgets": {},
     "nuid": "0f181b04-523e-4c3e-9f9f-800887cee82b",
     "showTitle": false,
     "tableResultSettingsMap": {},
     "title": ""
    }
   },
   "outputs": [],
   "source": [
    "# replacing nulls with 0 for stock and price and for name which is null as unknown, etc and if signupdate ,order_id, Custoemr_id is null which we cant repalce with anything drop them\n",
    "df_customers=df_customers.fillna({'name':'unknown','email':'unknown@gmail.com','address':'unknown'})\n",
    "df_orders=df_orders.fillna({'quantity':0,'total_price':0.0})\n",
    "df_products=df_products.fillna({'stock_quantity':0})\n",
    "# we can drop nulls\n",
    "df_orders=df_orders.dropna(subset=['customer_id','product_id','order_id'])"
   ]
  },
  {
   "cell_type": "markdown",
   "metadata": {
    "application/vnd.databricks.v1+cell": {
     "cellMetadata": {
      "byteLimit": 2048000,
      "rowLimit": 10000
     },
     "inputWidgets": {},
     "nuid": "33b6f708-67bb-415c-910d-8e94596c3988",
     "showTitle": false,
     "tableResultSettingsMap": {},
     "title": ""
    }
   },
   "source": [
    "## \tConvert timestamps and data types as needed.\n"
   ]
  },
  {
   "cell_type": "code",
   "execution_count": 0,
   "metadata": {
    "application/vnd.databricks.v1+cell": {
     "cellMetadata": {
      "byteLimit": 2048000,
      "rowLimit": 10000
     },
     "inputWidgets": {},
     "nuid": "1c6d4651-5f45-4804-8475-caff98283d7d",
     "showTitle": false,
     "tableResultSettingsMap": {},
     "title": ""
    }
   },
   "outputs": [],
   "source": [
    "from pyspark.sql.functions import col\n",
    "df_customers=df_customers.withColumn('signup_date',col('signup_date').cast('date'))\n",
    "df_orders=df_orders.withColumn('order_date',col('order_date').cast('date'))\n",
    "df_shipping=df_shipping.withColumn('delivery_date',col('delivery_date').cast('date'))"
   ]
  },
  {
   "cell_type": "markdown",
   "metadata": {
    "application/vnd.databricks.v1+cell": {
     "cellMetadata": {
      "byteLimit": 2048000,
      "rowLimit": 10000
     },
     "inputWidgets": {},
     "nuid": "41e1fd99-5699-45a1-87a4-a3c312e1fe21",
     "showTitle": false,
     "tableResultSettingsMap": {},
     "title": ""
    }
   },
   "source": [
    "# Tranformations"
   ]
  },
  {
   "cell_type": "markdown",
   "metadata": {
    "application/vnd.databricks.v1+cell": {
     "cellMetadata": {
      "byteLimit": 2048000,
      "rowLimit": 10000
     },
     "inputWidgets": {},
     "nuid": "67bc0e8c-f0c8-466e-bad8-2e7a6780bacb",
     "showTitle": false,
     "tableResultSettingsMap": {},
     "title": ""
    }
   },
   "source": [
    "- calculate the running total of orders \n",
    "- Calculate key metrics like total order value per customer, \n",
    "- average order size \n",
    "- Filter data for customers who spent over a certain threshold >500 rs spent \n",
    "- Perform transformations to identify the highest-value product category, \n",
    "- or calculate the longest shipping delays by joining product and shipping data "
   ]
  },
  {
   "cell_type": "markdown",
   "metadata": {
    "application/vnd.databricks.v1+cell": {
     "cellMetadata": {
      "byteLimit": 2048000,
      "rowLimit": 10000
     },
     "inputWidgets": {},
     "nuid": "c13501c4-3e41-42ab-83ab-dbf9446e1109",
     "showTitle": false,
     "tableResultSettingsMap": {},
     "title": ""
    }
   },
   "source": [
    "## calculate the running total of orders\n",
    "- still aquestion\n",
    "- didnt understood the exact goal of the question"
   ]
  },
  {
   "cell_type": "markdown",
   "metadata": {
    "application/vnd.databricks.v1+cell": {
     "cellMetadata": {
      "byteLimit": 2048000,
      "rowLimit": 10000
     },
     "inputWidgets": {},
     "nuid": "80013396-4943-43ec-abae-9ae1687332e5",
     "showTitle": false,
     "tableResultSettingsMap": {},
     "title": ""
    }
   },
   "source": [
    "### Calculate key metrics like total order value per customer"
   ]
  },
  {
   "cell_type": "code",
   "execution_count": 0,
   "metadata": {
    "application/vnd.databricks.v1+cell": {
     "cellMetadata": {
      "byteLimit": 2048000,
      "rowLimit": 10000
     },
     "inputWidgets": {},
     "nuid": "70285ed5-0e2c-4ce1-890d-290ae6c56b42",
     "showTitle": false,
     "tableResultSettingsMap": {},
     "title": ""
    }
   },
   "outputs": [
    {
     "output_type": "display_data",
     "data": {
      "text/html": [
       "<style scoped>\n",
       "  .table-result-container {\n",
       "    max-height: 300px;\n",
       "    overflow: auto;\n",
       "  }\n",
       "  table, th, td {\n",
       "    border: 1px solid black;\n",
       "    border-collapse: collapse;\n",
       "  }\n",
       "  th, td {\n",
       "    padding: 5px;\n",
       "  }\n",
       "  th {\n",
       "    text-align: left;\n",
       "  }\n",
       "</style><div class='table-result-container'><table class='table-result'><thead style='background-color: white'><tr><th>customer_id</th><th>total_spent</th><th>name</th></tr></thead><tbody><tr><td>148</td><td>29174.04</td><td>Courtney Brooks</td></tr><tr><td>833</td><td>23667.14</td><td>Barbara Davis</td></tr><tr><td>463</td><td>48222.84</td><td>Theresa Harris</td></tr><tr><td>471</td><td>21068.11</td><td>Cassandra Fox</td></tr><tr><td>496</td><td>10656.009999999998</td><td>Angelica Watts</td></tr></tbody></table></div>"
      ]
     },
     "metadata": {
      "application/vnd.databricks.v1+output": {
       "addedWidgets": {},
       "aggData": [],
       "aggError": "",
       "aggOverflow": false,
       "aggSchema": [],
       "aggSeriesLimitReached": false,
       "aggType": "",
       "arguments": {},
       "columnCustomDisplayInfos": {},
       "data": [
        [
         148,
         29174.04,
         "Courtney Brooks"
        ],
        [
         833,
         23667.14,
         "Barbara Davis"
        ],
        [
         463,
         48222.84,
         "Theresa Harris"
        ],
        [
         471,
         21068.11,
         "Cassandra Fox"
        ],
        [
         496,
         10656.009999999998,
         "Angelica Watts"
        ]
       ],
       "datasetInfos": [],
       "dbfsResultPath": null,
       "isJsonSchema": true,
       "metadata": {},
       "overflow": false,
       "plotOptions": {
        "customPlotOptions": {},
        "displayType": "table",
        "pivotAggregation": null,
        "pivotColumns": null,
        "xColumns": null,
        "yColumns": null
       },
       "removedWidgets": [],
       "schema": [
        {
         "metadata": "{}",
         "name": "customer_id",
         "type": "\"integer\""
        },
        {
         "metadata": "{}",
         "name": "total_spent",
         "type": "\"double\""
        },
        {
         "metadata": "{}",
         "name": "name",
         "type": "\"string\""
        }
       ],
       "type": "table"
      }
     },
     "output_type": "display_data"
    }
   ],
   "source": [
    "# Calculate key metrics like total order value per customer\n",
    "from pyspark.sql import functions as F\n",
    "#we can do this by aggregating the orders by customer\n",
    "#groupby customer and add the spent amount \n",
    "#join with customer df to get customer name \n",
    "# df_total_cusotmer_value is the result\n",
    "df_total_cusotmer_value=df_orders.groupBy('customer_id')\\\n",
    "    .agg(F.sum('total_price').alias('total_spent'))\\\n",
    "    .orderBy('customer_id')\n",
    "df_total_cusotmer_value=df_total_cusotmer_value.join(df_customers.select('customer_id','name'),on='customer_id',how='inner')\n",
    "df_total_cusotmer_value.limit(5).display()"
   ]
  },
  {
   "cell_type": "markdown",
   "metadata": {
    "application/vnd.databricks.v1+cell": {
     "cellMetadata": {
      "byteLimit": 2048000,
      "rowLimit": 10000
     },
     "inputWidgets": {},
     "nuid": "a81d82bf-da8d-4f34-9956-9939dbb740b9",
     "showTitle": false,
     "tableResultSettingsMap": {},
     "title": ""
    }
   },
   "source": [
    "#### calculate the average order size (quantity) per customer."
   ]
  },
  {
   "cell_type": "code",
   "execution_count": 0,
   "metadata": {
    "application/vnd.databricks.v1+cell": {
     "cellMetadata": {
      "byteLimit": 2048000,
      "rowLimit": 10000
     },
     "inputWidgets": {},
     "nuid": "a27ec480-071a-4f74-9bd0-8848bfab8bdf",
     "showTitle": false,
     "tableResultSettingsMap": {},
     "title": ""
    }
   },
   "outputs": [
    {
     "output_type": "display_data",
     "data": {
      "text/html": [
       "<style scoped>\n",
       "  .table-result-container {\n",
       "    max-height: 300px;\n",
       "    overflow: auto;\n",
       "  }\n",
       "  table, th, td {\n",
       "    border: 1px solid black;\n",
       "    border-collapse: collapse;\n",
       "  }\n",
       "  th, td {\n",
       "    padding: 5px;\n",
       "  }\n",
       "  th {\n",
       "    text-align: left;\n",
       "  }\n",
       "</style><div class='table-result-container'><table class='table-result'><thead style='background-color: white'><tr><th>customer_id</th><th>avg_order_size</th><th>name</th></tr></thead><tbody><tr><td>148</td><td>2.75</td><td>Courtney Brooks</td></tr><tr><td>833</td><td>2.75</td><td>Barbara Davis</td></tr><tr><td>463</td><td>2.25</td><td>Theresa Harris</td></tr><tr><td>471</td><td>3.25</td><td>Cassandra Fox</td></tr><tr><td>496</td><td>2.0</td><td>Angelica Watts</td></tr></tbody></table></div>"
      ]
     },
     "metadata": {
      "application/vnd.databricks.v1+output": {
       "addedWidgets": {},
       "aggData": [],
       "aggError": "",
       "aggOverflow": false,
       "aggSchema": [],
       "aggSeriesLimitReached": false,
       "aggType": "",
       "arguments": {},
       "columnCustomDisplayInfos": {},
       "data": [
        [
         148,
         2.75,
         "Courtney Brooks"
        ],
        [
         833,
         2.75,
         "Barbara Davis"
        ],
        [
         463,
         2.25,
         "Theresa Harris"
        ],
        [
         471,
         3.25,
         "Cassandra Fox"
        ],
        [
         496,
         2.0,
         "Angelica Watts"
        ]
       ],
       "datasetInfos": [],
       "dbfsResultPath": null,
       "isJsonSchema": true,
       "metadata": {},
       "overflow": false,
       "plotOptions": {
        "customPlotOptions": {},
        "displayType": "table",
        "pivotAggregation": null,
        "pivotColumns": null,
        "xColumns": null,
        "yColumns": null
       },
       "removedWidgets": [],
       "schema": [
        {
         "metadata": "{}",
         "name": "customer_id",
         "type": "\"integer\""
        },
        {
         "metadata": "{}",
         "name": "avg_order_size",
         "type": "\"double\""
        },
        {
         "metadata": "{}",
         "name": "name",
         "type": "\"string\""
        }
       ],
       "type": "table"
      }
     },
     "output_type": "display_data"
    }
   ],
   "source": [
    "#You can calculate the average order size (quantity) per customer by group bu customer id \n",
    "# calculate the average of the quantity \n",
    "# join with df_cusotmers to get the customer name \n",
    "# df_customer_avgordersize is the result\n",
    "df_customer_avgordersize=df_orders.groupBy('customer_id').agg(F.avg('quantity').alias('avg_order_size'))\n",
    "df_customer_avgordersize=df_customer_avgordersize.join(df_customers.select('customer_id','name'),on='customer_id',how='inner')\n",
    "df_customer_avgordersize.limit(5).display()"
   ]
  },
  {
   "cell_type": "markdown",
   "metadata": {
    "application/vnd.databricks.v1+cell": {
     "cellMetadata": {
      "byteLimit": 2048000,
      "rowLimit": 10000
     },
     "inputWidgets": {},
     "nuid": "94faad16-1265-40da-a1a8-b97189af815a",
     "showTitle": false,
     "tableResultSettingsMap": {},
     "title": ""
    }
   },
   "source": [
    "#### "
   ]
  },
  {
   "cell_type": "markdown",
   "metadata": {
    "application/vnd.databricks.v1+cell": {
     "cellMetadata": {
      "byteLimit": 2048000,
      "rowLimit": 10000
     },
     "inputWidgets": {},
     "nuid": "6c3f1275-77fe-4acb-bcc5-381cfdad4591",
     "showTitle": false,
     "tableResultSettingsMap": {},
     "title": ""
    }
   },
   "source": [
    "### df_more_spent where customers data who spent >50,000"
   ]
  },
  {
   "cell_type": "code",
   "execution_count": 0,
   "metadata": {
    "application/vnd.databricks.v1+cell": {
     "cellMetadata": {
      "byteLimit": 2048000,
      "rowLimit": 10000
     },
     "inputWidgets": {},
     "nuid": "358adc12-5974-4f0d-ab99-11a351db4944",
     "showTitle": false,
     "tableResultSettingsMap": {},
     "title": ""
    }
   },
   "outputs": [
    {
     "output_type": "display_data",
     "data": {
      "text/html": [
       "<style scoped>\n",
       "  .table-result-container {\n",
       "    max-height: 300px;\n",
       "    overflow: auto;\n",
       "  }\n",
       "  table, th, td {\n",
       "    border: 1px solid black;\n",
       "    border-collapse: collapse;\n",
       "  }\n",
       "  th, td {\n",
       "    padding: 5px;\n",
       "  }\n",
       "  th {\n",
       "    text-align: left;\n",
       "  }\n",
       "</style><div class='table-result-container'><table class='table-result'><thead style='background-color: white'><tr><th>customer_id</th><th>total_spent</th><th>name</th></tr></thead><tbody><tr><td>737</td><td>87587.45</td><td>Carolyn Parker</td></tr><tr><td>580</td><td>61981.13</td><td>Michael Johnson</td></tr><tr><td>918</td><td>51697.59999999999</td><td>Melanie Miller</td></tr><tr><td>613</td><td>73259.91</td><td>Linda Nicholson</td></tr><tr><td>362</td><td>65767.07</td><td>Christopher Freeman</td></tr><tr><td>108</td><td>57848.31</td><td>Thomas Crane</td></tr><tr><td>796</td><td>84891.87000000001</td><td>Tiffany Lucas</td></tr><tr><td>368</td><td>55002.670000000006</td><td>Kristin Romero</td></tr><tr><td>101</td><td>57336.28999999999</td><td>Linda Reynolds</td></tr><tr><td>385</td><td>51684.32</td><td>Michael Holmes</td></tr></tbody></table></div>"
      ]
     },
     "metadata": {
      "application/vnd.databricks.v1+output": {
       "addedWidgets": {},
       "aggData": [],
       "aggError": "",
       "aggOverflow": false,
       "aggSchema": [],
       "aggSeriesLimitReached": false,
       "aggType": "",
       "arguments": {},
       "columnCustomDisplayInfos": {},
       "data": [
        [
         737,
         87587.45,
         "Carolyn Parker"
        ],
        [
         580,
         61981.13,
         "Michael Johnson"
        ],
        [
         918,
         51697.59999999999,
         "Melanie Miller"
        ],
        [
         613,
         73259.91,
         "Linda Nicholson"
        ],
        [
         362,
         65767.07,
         "Christopher Freeman"
        ],
        [
         108,
         57848.31,
         "Thomas Crane"
        ],
        [
         796,
         84891.87000000001,
         "Tiffany Lucas"
        ],
        [
         368,
         55002.670000000006,
         "Kristin Romero"
        ],
        [
         101,
         57336.28999999999,
         "Linda Reynolds"
        ],
        [
         385,
         51684.32,
         "Michael Holmes"
        ]
       ],
       "datasetInfos": [],
       "dbfsResultPath": null,
       "isJsonSchema": true,
       "metadata": {},
       "overflow": false,
       "plotOptions": {
        "customPlotOptions": {},
        "displayType": "table",
        "pivotAggregation": null,
        "pivotColumns": null,
        "xColumns": null,
        "yColumns": null
       },
       "removedWidgets": [],
       "schema": [
        {
         "metadata": "{}",
         "name": "customer_id",
         "type": "\"integer\""
        },
        {
         "metadata": "{}",
         "name": "total_spent",
         "type": "\"double\""
        },
        {
         "metadata": "{}",
         "name": "name",
         "type": "\"string\""
        }
       ],
       "type": "table"
      }
     },
     "output_type": "display_data"
    }
   ],
   "source": [
    "# we have already df_total_cusotmer_value the customers spent on orders group by customer\n",
    "## just filter the total speant >50000\n",
    "df_total_cusotmer_value.filter(col('total_spent')>50000).limit(10).display()"
   ]
  },
  {
   "cell_type": "markdown",
   "metadata": {
    "application/vnd.databricks.v1+cell": {
     "cellMetadata": {
      "byteLimit": 2048000,
      "rowLimit": 10000
     },
     "inputWidgets": {},
     "nuid": "7c2df17c-61f0-48ee-b570-639a86ce1dce",
     "showTitle": false,
     "tableResultSettingsMap": {},
     "title": ""
    }
   },
   "source": [
    "### Perform transformations to identify the highest-value product category\n",
    "- By the number of orders per category – The category with the highest number of orders is considered the most in-demand.\n",
    "- By total revenue per category – The category generating the highest total revenue (price * quantity) is the highest-value category."
   ]
  },
  {
   "cell_type": "markdown",
   "metadata": {
    "application/vnd.databricks.v1+cell": {
     "cellMetadata": {
      "byteLimit": 2048000,
      "rowLimit": 10000
     },
     "inputWidgets": {},
     "nuid": "24d4b2ef-8afd-4263-8101-abe952ef9a13",
     "showTitle": false,
     "tableResultSettingsMap": {},
     "title": ""
    }
   },
   "source": [
    "- By total revenue per category "
   ]
  },
  {
   "cell_type": "code",
   "execution_count": 0,
   "metadata": {
    "application/vnd.databricks.v1+cell": {
     "cellMetadata": {
      "byteLimit": 2048000,
      "rowLimit": 10000
     },
     "inputWidgets": {},
     "nuid": "8543bae3-5421-452f-9556-cda7acac18cf",
     "showTitle": false,
     "tableResultSettingsMap": {},
     "title": ""
    }
   },
   "outputs": [
    {
     "output_type": "display_data",
     "data": {
      "text/html": [
       "<style scoped>\n",
       "  .table-result-container {\n",
       "    max-height: 300px;\n",
       "    overflow: auto;\n",
       "  }\n",
       "  table, th, td {\n",
       "    border: 1px solid black;\n",
       "    border-collapse: collapse;\n",
       "  }\n",
       "  th, td {\n",
       "    padding: 5px;\n",
       "  }\n",
       "  th {\n",
       "    text-align: left;\n",
       "  }\n",
       "</style><div class='table-result-container'><table class='table-result'><thead style='background-color: white'><tr><th>product_name</th><th>category</th><th>revenue_per_pname</th></tr></thead><tbody><tr><td>Toaster</td><td>Home & Kitchen</td><td>7514255.409999999</td></tr></tbody></table></div>"
      ]
     },
     "metadata": {
      "application/vnd.databricks.v1+output": {
       "addedWidgets": {},
       "aggData": [],
       "aggError": "",
       "aggOverflow": false,
       "aggSchema": [],
       "aggSeriesLimitReached": false,
       "aggType": "",
       "arguments": {},
       "columnCustomDisplayInfos": {},
       "data": [
        [
         "Toaster",
         "Home & Kitchen",
         7514255.409999999
        ]
       ],
       "datasetInfos": [],
       "dbfsResultPath": null,
       "isJsonSchema": true,
       "metadata": {},
       "overflow": false,
       "plotOptions": {
        "customPlotOptions": {},
        "displayType": "table",
        "pivotAggregation": null,
        "pivotColumns": null,
        "xColumns": null,
        "yColumns": null
       },
       "removedWidgets": [],
       "schema": [
        {
         "metadata": "{}",
         "name": "product_name",
         "type": "\"string\""
        },
        {
         "metadata": "{}",
         "name": "category",
         "type": "\"string\""
        },
        {
         "metadata": "{}",
         "name": "revenue_per_pname",
         "type": "\"double\""
        }
       ],
       "type": "table"
      }
     },
     "output_type": "display_data"
    }
   ],
   "source": [
    "df_product_soldmore=df_orders.groupBy('product_id').agg(F.sum('total_price').alias('revenue_per_productid'))\n",
    "df_category_soldmore=df_product_soldmore.join(df_products.select('product_id','product_name','category'),on='product_id',how='inner')\n",
    "df_category_soldmore=df_category_soldmore.groupBy('product_name','category').agg(F.sum('revenue_per_productid').alias('revenue_per_pname')).sort(col('revenue_per_pname').desc())\n",
    "df_category_soldmore.limit(1).display()"
   ]
  },
  {
   "cell_type": "markdown",
   "metadata": {
    "application/vnd.databricks.v1+cell": {
     "cellMetadata": {
      "byteLimit": 2048000,
      "rowLimit": 10000
     },
     "inputWidgets": {},
     "nuid": "71de0bb7-643a-4709-89a5-03b4f1e73962",
     "showTitle": false,
     "tableResultSettingsMap": {},
     "title": ""
    }
   },
   "source": [
    "####  so the highest-value product category By total revenue per category – The category generating the highest total revenue (price * quantity) is the highest-value category is Home & Kitchen\n",
    "# Home & Kitchen"
   ]
  },
  {
   "cell_type": "markdown",
   "metadata": {
    "application/vnd.databricks.v1+cell": {
     "cellMetadata": {
      "byteLimit": 2048000,
      "rowLimit": 10000
     },
     "inputWidgets": {},
     "nuid": "2039e406-a0c4-4956-8cec-4541bdd9e21c",
     "showTitle": false,
     "tableResultSettingsMap": {},
     "title": ""
    }
   },
   "source": [
    "- By the number of orders per category – The category with the highest number of orders is considered the most in-demand."
   ]
  },
  {
   "cell_type": "code",
   "execution_count": 0,
   "metadata": {
    "application/vnd.databricks.v1+cell": {
     "cellMetadata": {
      "byteLimit": 2048000,
      "rowLimit": 10000
     },
     "inputWidgets": {},
     "nuid": "354972a6-d2a6-41c3-85c1-c50c4b2c8f58",
     "showTitle": false,
     "tableResultSettingsMap": {},
     "title": ""
    }
   },
   "outputs": [
    {
     "output_type": "display_data",
     "data": {
      "text/html": [
       "<style scoped>\n",
       "  .table-result-container {\n",
       "    max-height: 300px;\n",
       "    overflow: auto;\n",
       "  }\n",
       "  table, th, td {\n",
       "    border: 1px solid black;\n",
       "    border-collapse: collapse;\n",
       "  }\n",
       "  th, td {\n",
       "    padding: 5px;\n",
       "  }\n",
       "  th {\n",
       "    text-align: left;\n",
       "  }\n",
       "</style><div class='table-result-container'><table class='table-result'><thead style='background-color: white'><tr><th>product_id</th><th>quantity_of_product</th></tr></thead><tbody><tr><td>4</td><td>181</td></tr><tr><td>76</td><td>178</td></tr><tr><td>37</td><td>175</td></tr><tr><td>59</td><td>171</td></tr><tr><td>1</td><td>163</td></tr><tr><td>35</td><td>161</td></tr><tr><td>58</td><td>159</td></tr><tr><td>28</td><td>155</td></tr><tr><td>96</td><td>154</td></tr><tr><td>94</td><td>153</td></tr></tbody></table></div>"
      ]
     },
     "metadata": {
      "application/vnd.databricks.v1+output": {
       "addedWidgets": {},
       "aggData": [],
       "aggError": "",
       "aggOverflow": false,
       "aggSchema": [],
       "aggSeriesLimitReached": false,
       "aggType": "",
       "arguments": {},
       "columnCustomDisplayInfos": {},
       "data": [
        [
         4,
         181
        ],
        [
         76,
         178
        ],
        [
         37,
         175
        ],
        [
         59,
         171
        ],
        [
         1,
         163
        ],
        [
         35,
         161
        ],
        [
         58,
         159
        ],
        [
         28,
         155
        ],
        [
         96,
         154
        ],
        [
         94,
         153
        ]
       ],
       "datasetInfos": [],
       "dbfsResultPath": null,
       "isJsonSchema": true,
       "metadata": {},
       "overflow": false,
       "plotOptions": {
        "customPlotOptions": {},
        "displayType": "table",
        "pivotAggregation": null,
        "pivotColumns": null,
        "xColumns": null,
        "yColumns": null
       },
       "removedWidgets": [],
       "schema": [
        {
         "metadata": "{}",
         "name": "product_id",
         "type": "\"integer\""
        },
        {
         "metadata": "{}",
         "name": "quantity_of_product",
         "type": "\"long\""
        }
       ],
       "type": "table"
      }
     },
     "output_type": "display_data"
    }
   ],
   "source": [
    "df_highest_category=df_products.select('product_id','product_name','category').join(df_orders.select('product_id','quantity'),on='product_id',how='inner')\n",
    "df_highest_category_product=df_highest_category.groupBy('product_id').agg(F.sum('quantity').alias('quantity_of_product')).orderBy(F.desc('quantity_of_product'))\n",
    "\n",
    "df_highest_category_product.limit(10).display()\n"
   ]
  },
  {
   "cell_type": "markdown",
   "metadata": {
    "application/vnd.databricks.v1+cell": {
     "cellMetadata": {
      "byteLimit": 2048000,
      "rowLimit": 10000
     },
     "inputWidgets": {},
     "nuid": "cbe06b76-21f4-47c8-80f1-2b98d389cd32",
     "showTitle": false,
     "tableResultSettingsMap": {},
     "title": ""
    }
   },
   "source": [
    "### By the number of orders per category \n",
    "- the answer is\n",
    "##### Home & Kitchen"
   ]
  },
  {
   "cell_type": "markdown",
   "metadata": {
    "application/vnd.databricks.v1+cell": {
     "cellMetadata": {
      "byteLimit": 2048000,
      "rowLimit": 10000
     },
     "inputWidgets": {},
     "nuid": "f0ae4d0f-012e-4347-822b-8a743da16148",
     "showTitle": false,
     "tableResultSettingsMap": {},
     "title": ""
    }
   },
   "source": [
    "# calculate the longest shipping delays by joining product and shipping data \n"
   ]
  },
  {
   "cell_type": "markdown",
   "metadata": {
    "application/vnd.databricks.v1+cell": {
     "cellMetadata": {},
     "inputWidgets": {},
     "nuid": "38abd01c-4bef-4fa9-b701-249104daedaf",
     "showTitle": false,
     "tableResultSettingsMap": {},
     "title": ""
    }
   },
   "source": [
    "###### joined orders df with df_shipping and calculating the new column delaydays which is difference of datediff('delivery_date','order_date')\n",
    "- then join with df_products to get product_name and product_category\n",
    "- then sort the column delay days column in desc \n",
    "- then we get the result we want longest shipping delays"
   ]
  },
  {
   "cell_type": "code",
   "execution_count": 0,
   "metadata": {
    "application/vnd.databricks.v1+cell": {
     "cellMetadata": {
      "byteLimit": 2048000,
      "rowLimit": 10000
     },
     "inputWidgets": {},
     "nuid": "936fd4bb-f089-45b7-bde5-6500261a899f",
     "showTitle": false,
     "tableResultSettingsMap": {},
     "title": ""
    }
   },
   "outputs": [
    {
     "output_type": "display_data",
     "data": {
      "text/html": [
       "<style scoped>\n",
       "  .table-result-container {\n",
       "    max-height: 300px;\n",
       "    overflow: auto;\n",
       "  }\n",
       "  table, th, td {\n",
       "    border: 1px solid black;\n",
       "    border-collapse: collapse;\n",
       "  }\n",
       "  th, td {\n",
       "    padding: 5px;\n",
       "  }\n",
       "  th {\n",
       "    text-align: left;\n",
       "  }\n",
       "</style><div class='table-result-container'><table class='table-result'><thead style='background-color: white'><tr><th>product_id</th><th>order_id</th><th>order_date</th><th>delivery_date</th><th>delay_days</th><th>product_name</th><th>category</th></tr></thead><tbody><tr><td>77</td><td>1330</td><td>2024-03-17</td><td>2025-03-19</td><td>367</td><td>RC Car</td><td>Toys</td></tr><tr><td>19</td><td>2335</td><td>2024-03-24</td><td>2025-03-20</td><td>361</td><td>Yoga Mat</td><td>Sports</td></tr><tr><td>30</td><td>2342</td><td>2024-03-21</td><td>2025-03-17</td><td>361</td><td>Smartphone</td><td>Electronics</td></tr><tr><td>89</td><td>2557</td><td>2024-03-18</td><td>2025-03-13</td><td>360</td><td>Jeans</td><td>Clothing</td></tr><tr><td>60</td><td>16</td><td>2024-03-11</td><td>2025-03-03</td><td>357</td><td>Yoga Mat</td><td>Sports</td></tr></tbody></table></div>"
      ]
     },
     "metadata": {
      "application/vnd.databricks.v1+output": {
       "addedWidgets": {},
       "aggData": [],
       "aggError": "",
       "aggOverflow": false,
       "aggSchema": [],
       "aggSeriesLimitReached": false,
       "aggType": "",
       "arguments": {},
       "columnCustomDisplayInfos": {},
       "data": [
        [
         77,
         1330,
         "2024-03-17",
         "2025-03-19",
         367,
         "RC Car",
         "Toys"
        ],
        [
         19,
         2335,
         "2024-03-24",
         "2025-03-20",
         361,
         "Yoga Mat",
         "Sports"
        ],
        [
         30,
         2342,
         "2024-03-21",
         "2025-03-17",
         361,
         "Smartphone",
         "Electronics"
        ],
        [
         89,
         2557,
         "2024-03-18",
         "2025-03-13",
         360,
         "Jeans",
         "Clothing"
        ],
        [
         60,
         16,
         "2024-03-11",
         "2025-03-03",
         357,
         "Yoga Mat",
         "Sports"
        ]
       ],
       "datasetInfos": [],
       "dbfsResultPath": null,
       "isJsonSchema": true,
       "metadata": {},
       "overflow": false,
       "plotOptions": {
        "customPlotOptions": {},
        "displayType": "table",
        "pivotAggregation": null,
        "pivotColumns": null,
        "xColumns": null,
        "yColumns": null
       },
       "removedWidgets": [],
       "schema": [
        {
         "metadata": "{}",
         "name": "product_id",
         "type": "\"integer\""
        },
        {
         "metadata": "{}",
         "name": "order_id",
         "type": "\"integer\""
        },
        {
         "metadata": "{}",
         "name": "order_date",
         "type": "\"date\""
        },
        {
         "metadata": "{}",
         "name": "delivery_date",
         "type": "\"date\""
        },
        {
         "metadata": "{}",
         "name": "delay_days",
         "type": "\"integer\""
        },
        {
         "metadata": "{}",
         "name": "product_name",
         "type": "\"string\""
        },
        {
         "metadata": "{}",
         "name": "category",
         "type": "\"string\""
        }
       ],
       "type": "table"
      }
     },
     "output_type": "display_data"
    },
    {
     "output_type": "display_data",
     "data": {
      "text/html": [
       "<style scoped>\n",
       "  .table-result-container {\n",
       "    max-height: 300px;\n",
       "    overflow: auto;\n",
       "  }\n",
       "  table, th, td {\n",
       "    border: 1px solid black;\n",
       "    border-collapse: collapse;\n",
       "  }\n",
       "  th, td {\n",
       "    padding: 5px;\n",
       "  }\n",
       "  th {\n",
       "    text-align: left;\n",
       "  }\n",
       "</style><div class='table-result-container'><table class='table-result'><thead style='background-color: white'><tr><th>product_id</th><th>order_id</th><th>order_date</th><th>delivery_date</th><th>delay_days</th><th>product_name</th><th>category</th></tr></thead><tbody><tr><td>77</td><td>1330</td><td>2024-03-17</td><td>2025-03-19</td><td>367</td><td>RC Car</td><td>Toys</td></tr></tbody></table></div>"
      ]
     },
     "metadata": {
      "application/vnd.databricks.v1+output": {
       "addedWidgets": {},
       "aggData": [],
       "aggError": "",
       "aggOverflow": false,
       "aggSchema": [],
       "aggSeriesLimitReached": false,
       "aggType": "",
       "arguments": {},
       "columnCustomDisplayInfos": {},
       "data": [
        [
         77,
         1330,
         "2024-03-17",
         "2025-03-19",
         367,
         "RC Car",
         "Toys"
        ]
       ],
       "datasetInfos": [],
       "dbfsResultPath": null,
       "isJsonSchema": true,
       "metadata": {},
       "overflow": false,
       "plotOptions": {
        "customPlotOptions": {},
        "displayType": "table",
        "pivotAggregation": null,
        "pivotColumns": null,
        "xColumns": null,
        "yColumns": null
       },
       "removedWidgets": [],
       "schema": [
        {
         "metadata": "{}",
         "name": "product_id",
         "type": "\"integer\""
        },
        {
         "metadata": "{}",
         "name": "order_id",
         "type": "\"integer\""
        },
        {
         "metadata": "{}",
         "name": "order_date",
         "type": "\"date\""
        },
        {
         "metadata": "{}",
         "name": "delivery_date",
         "type": "\"date\""
        },
        {
         "metadata": "{}",
         "name": "delay_days",
         "type": "\"integer\""
        },
        {
         "metadata": "{}",
         "name": "product_name",
         "type": "\"string\""
        },
        {
         "metadata": "{}",
         "name": "category",
         "type": "\"string\""
        }
       ],
       "type": "table"
      }
     },
     "output_type": "display_data"
    }
   ],
   "source": [
    "from pyspark.sql.functions import datediff\n",
    "df_shipping_delays=df_orders.select('order_id','order_date','product_id')\\\n",
    "    .join(df_shipping.select('order_id','delivery_date'),on='order_id',how='inner')\\\n",
    "    .withColumn('delay_days',datediff('delivery_date','order_date'))\\\n",
    "    .join(df_products.select('product_name','product_id','category'),on='product_id',how='inner')\\\n",
    "    .sort(col('delay_days').desc())\n",
    "df_shipping_delays.limit(5).display()\n",
    "df_shipping_delays.limit(1).display()"
   ]
  },
  {
   "cell_type": "markdown",
   "metadata": {
    "application/vnd.databricks.v1+cell": {
     "cellMetadata": {},
     "inputWidgets": {},
     "nuid": "e5300db1-63d8-4d88-b639-532891b4e359",
     "showTitle": false,
     "tableResultSettingsMap": {},
     "title": ""
    }
   },
   "source": [
    "###### the answer is RC car which took 367 days to deliver and category is toys"
   ]
  },
  {
   "cell_type": "markdown",
   "metadata": {
    "application/vnd.databricks.v1+cell": {
     "cellMetadata": {
      "byteLimit": 2048000,
      "rowLimit": 10000
     },
     "inputWidgets": {},
     "nuid": "7e517a51-081c-4cbd-91c2-34b8104c7088",
     "showTitle": false,
     "tableResultSettingsMap": {},
     "title": ""
    }
   },
   "source": [
    "#   revenue by product category  plot"
   ]
  },
  {
   "cell_type": "code",
   "execution_count": 0,
   "metadata": {
    "application/vnd.databricks.v1+cell": {
     "cellMetadata": {
      "byteLimit": 2048000,
      "rowLimit": 10000
     },
     "inputWidgets": {},
     "nuid": "ebd7a559-a6b4-477d-9269-12e90b87bafd",
     "showTitle": false,
     "tableResultSettingsMap": {},
     "title": ""
    }
   },
   "outputs": [
    {
     "output_type": "display_data",
     "data": {
      "image/png": "[encoded data removed]"
     },
     "metadata": {
      "application/vnd.databricks.v1+output": {
       "addedWidgets": {},
       "arguments": {},
       "data": "data:image/png;base64,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\n",
       "datasetInfos": [],
       "metadata": {},
       "removedWidgets": [],
       "type": "image"
      }
     },
     "output_type": "display_data"
    }
   ],
   "source": [
    "import matplotlib.pyplot as plt\n",
    "import seaborn as sns\n",
    "pd_category_revenue=df_category_soldmore.toPandas()\n",
    "sns.barplot(data=pd_category_revenue,x='category',y='revenue_per_pname',palette='viridis')\n",
    "plt.xlabel('Product Category')\n",
    "plt.ylabel('Total Revenue')\n",
    "plt.title('Revenue By Product Category')\n",
    "plt.show()"
   ]
  },
  {
   "cell_type": "code",
   "execution_count": 0,
   "metadata": {
    "application/vnd.databricks.v1+cell": {
     "cellMetadata": {
      "byteLimit": 2048000,
      "rowLimit": 10000
     },
     "inputWidgets": {},
     "nuid": "e16ac955-18fa-45ca-80ef-c0aa0a006780",
     "showTitle": false,
     "tableResultSettingsMap": {},
     "title": ""
    }
   },
   "outputs": [
    {
     "output_type": "display_data",
     "data": {
      "text/html": [
       "<style scoped>\n",
       "  .table-result-container {\n",
       "    max-height: 300px;\n",
       "    overflow: auto;\n",
       "  }\n",
       "  table, th, td {\n",
       "    border: 1px solid black;\n",
       "    border-collapse: collapse;\n",
       "  }\n",
       "  th, td {\n",
       "    padding: 5px;\n",
       "  }\n",
       "  th {\n",
       "    text-align: left;\n",
       "  }\n",
       "</style><div class='table-result-container'><table class='table-result'><thead style='background-color: white'><tr><th>product_name</th><th>category</th><th>revenue_per_pname</th></tr></thead><tbody><tr><td>Toaster</td><td>Home & Kitchen</td><td>7514255.409999999</td></tr><tr><td>Yoga Mat</td><td>Sports</td><td>6235214.489999999</td></tr><tr><td>RC Car</td><td>Toys</td><td>5008281.600000001</td></tr><tr><td>Smartphone</td><td>Electronics</td><td>4480974.46</td></tr><tr><td>Jeans</td><td>Clothing</td><td>4334505.729999999</td></tr><tr><td>Biography</td><td>Books</td><td>3036450.79</td></tr></tbody></table></div>"
      ]
     },
     "metadata": {
      "application/vnd.databricks.v1+output": {
       "addedWidgets": {},
       "aggData": [],
       "aggError": "",
       "aggOverflow": false,
       "aggSchema": [],
       "aggSeriesLimitReached": false,
       "aggType": "",
       "arguments": {},
       "columnCustomDisplayInfos": {},
       "data": [
        [
         "Toaster",
         "Home & Kitchen",
         7514255.409999999
        ],
        [
         "Yoga Mat",
         "Sports",
         6235214.489999999
        ],
        [
         "RC Car",
         "Toys",
         5008281.600000001
        ],
        [
         "Smartphone",
         "Electronics",
         4480974.46
        ],
        [
         "Jeans",
         "Clothing",
         4334505.729999999
        ],
        [
         "Biography",
         "Books",
         3036450.79
        ]
       ],
       "datasetInfos": [],
       "dbfsResultPath": null,
       "isJsonSchema": true,
       "metadata": {},
       "overflow": false,
       "plotOptions": {
        "customPlotOptions": {},
        "displayType": "table",
        "pivotAggregation": null,
        "pivotColumns": null,
        "xColumns": null,
        "yColumns": null
       },
       "removedWidgets": [],
       "schema": [
        {
         "metadata": "{}",
         "name": "product_name",
         "type": "\"string\""
        },
        {
         "metadata": "{}",
         "name": "category",
         "type": "\"string\""
        },
        {
         "metadata": "{}",
         "name": "revenue_per_pname",
         "type": "\"double\""
        }
       ],
       "type": "table"
      }
     },
     "output_type": "display_data"
    }
   ],
   "source": [
    "df_category_soldmore.display()\n",
    "# this is the plot barplot drawn above "
   ]
  },
  {
   "cell_type": "markdown",
   "metadata": {
    "application/vnd.databricks.v1+cell": {
     "cellMetadata": {
      "byteLimit": 2048000,
      "rowLimit": 10000
     },
     "inputWidgets": {},
     "nuid": "a074df9d-4867-4371-a09f-3623fac7847a",
     "showTitle": false,
     "tableResultSettingsMap": {},
     "title": ""
    }
   },
   "source": [
    "### you could plot the distribution of customer spending or visualize the shipping delays for top products- [Matplotlib/Seaborn to visualize trends]"
   ]
  },
  {
   "cell_type": "markdown",
   "metadata": {
    "application/vnd.databricks.v1+cell": {
     "cellMetadata": {},
     "inputWidgets": {},
     "nuid": "8914ad3e-afab-4230-bcfa-8d7a6a96e05f",
     "showTitle": false,
     "tableResultSettingsMap": {},
     "title": ""
    }
   },
   "source": [
    "# distribution of customer spending "
   ]
  },
  {
   "cell_type": "markdown",
   "metadata": {
    "application/vnd.databricks.v1+cell": {
     "cellMetadata": {},
     "inputWidgets": {},
     "nuid": "b7b7258b-5ace-4b79-b266-6cf728b47221",
     "showTitle": false,
     "tableResultSettingsMap": {},
     "title": ""
    }
   },
   "source": [
    "- customer spendng is group by customer_id and addthe total_price this is df_customers_plot \n",
    "- on this df convert to pandas and make the customers id to clusters \n",
    "- as of customers are 990 ids its large to visualize so make clusters of 100 customers as one cluster\n",
    "- now show the spending avg of the cluster of customers\n",
    "- make barplot"
   ]
  },
  {
   "cell_type": "code",
   "execution_count": 0,
   "metadata": {
    "application/vnd.databricks.v1+cell": {
     "cellMetadata": {
      "byteLimit": 2048000,
      "rowLimit": 10000
     },
     "inputWidgets": {},
     "nuid": "e057861b-818f-4c36-ac1f-3ccfadcc2706",
     "showTitle": false,
     "tableResultSettingsMap": {},
     "title": ""
    }
   },
   "outputs": [
    {
     "output_type": "display_data",
     "data": {
      "text/html": [
       "<style scoped>\n",
       "  .table-result-container {\n",
       "    max-height: 300px;\n",
       "    overflow: auto;\n",
       "  }\n",
       "  table, th, td {\n",
       "    border: 1px solid black;\n",
       "    border-collapse: collapse;\n",
       "  }\n",
       "  th, td {\n",
       "    padding: 5px;\n",
       "  }\n",
       "  th {\n",
       "    text-align: left;\n",
       "  }\n",
       "</style><div class='table-result-container'><table class='table-result'><thead style='background-color: white'><tr><th>customer_id</th><th>total</th></tr></thead><tbody><tr><td>1</td><td>48687.24999999999</td></tr><tr><td>2</td><td>13309.909999999998</td></tr><tr><td>3</td><td>26942.010000000002</td></tr><tr><td>4</td><td>30384.48</td></tr><tr><td>5</td><td>7464.11</td></tr></tbody></table></div>"
      ]
     },
     "metadata": {
      "application/vnd.databricks.v1+output": {
       "addedWidgets": {},
       "aggData": [],
       "aggError": "",
       "aggOverflow": false,
       "aggSchema": [],
       "aggSeriesLimitReached": false,
       "aggType": "",
       "arguments": {},
       "columnCustomDisplayInfos": {},
       "data": [
        [
         1,
         48687.24999999999
        ],
        [
         2,
         13309.909999999998
        ],
        [
         3,
         26942.010000000002
        ],
        [
         4,
         30384.48
        ],
        [
         5,
         7464.11
        ]
       ],
       "datasetInfos": [],
       "dbfsResultPath": null,
       "isJsonSchema": true,
       "metadata": {},
       "overflow": false,
       "plotOptions": {
        "customPlotOptions": {},
        "displayType": "table",
        "pivotAggregation": null,
        "pivotColumns": null,
        "xColumns": null,
        "yColumns": null
       },
       "removedWidgets": [],
       "schema": [
        {
         "metadata": "{}",
         "name": "customer_id",
         "type": "\"integer\""
        },
        {
         "metadata": "{}",
         "name": "total",
         "type": "\"double\""
        }
       ],
       "type": "table"
      }
     },
     "output_type": "display_data"
    }
   ],
   "source": [
    "df_customers_plot=df_orders.select('customer_id','product_id','total_price')\\\n",
    "    .groupBy('customer_id').agg(F.sum(col('total_price')).alias('total'))\\\n",
    "    .orderBy('customer_id')\n",
    "df_customers_plot.limit(5).display()"
   ]
  },
  {
   "cell_type": "code",
   "execution_count": 0,
   "metadata": {
    "application/vnd.databricks.v1+cell": {
     "cellMetadata": {
      "byteLimit": 2048000,
      "rowLimit": 10000
     },
     "inputWidgets": {},
     "nuid": "10a058b0-d8c9-49e5-807e-2c6ca9d8dd88",
     "showTitle": false,
     "tableResultSettingsMap": {},
     "title": ""
    }
   },
   "outputs": [
    {
     "output_type": "display_data",
     "data": {
      "image/png": "[encoded data removed]"
     },
     "metadata": {
      "application/vnd.databricks.v1+output": {
       "addedWidgets": {},
       "arguments": {},
       "data": "data:image/png;base64,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\n",
       "datasetInfos": [],
       "metadata": {},
       "removedWidgets": [],
       "type": "image"
      }
     },
     "output_type": "display_data"
    }
   ],
   "source": [
    "import pandas as pd\n",
    "import matplotlib.pyplot as plt\n",
    "import numpy as np\n",
    "\n",
    "data=df_customers_plot.toPandas()\n",
    "list_data=data.values.tolist()\n",
    "cluster_prices=[]\n",
    "sum=0\n",
    "customers_cluster=0\n",
    "\n",
    "for i in range(0,len(list_data)):\n",
    "    sum+=list_data[i][1]\n",
    "    if (i+1)%100==0 or i==len(list_data)-1:\n",
    "        cluster_prices.append([f'c {customers_cluster}',sum])\n",
    "        sum=0\n",
    "        customers_cluster+=1\n",
    "\n",
    "clusters=pd.DataFrame(cluster_prices)\n",
    "clusters.columns=['cluster_id','Total revenue']\n",
    "clusters\n",
    "\n",
    "plt.figure(figsize=(10, 6))\n",
    "plt.bar(clusters['cluster_id'], clusters['Total revenue'], color='skyblue')\n",
    "plt.xlabel('Customer Clusters')\n",
    "plt.ylabel('Total Spent')\n",
    "plt.title('Total Spending Per 100 Customer Clusters')\n",
    "plt.xticks(rotation=45)\n",
    "plt.show()"
   ]
  },
  {
   "cell_type": "markdown",
   "metadata": {
    "application/vnd.databricks.v1+cell": {
     "cellMetadata": {},
     "inputWidgets": {},
     "nuid": "eb096e55-6c89-4dc1-a7af-77069580ab5b",
     "showTitle": false,
     "tableResultSettingsMap": {},
     "title": ""
    }
   },
   "source": [
    "# visualize the shipping delays for top products"
   ]
  },
  {
   "cell_type": "markdown",
   "metadata": {
    "application/vnd.databricks.v1+cell": {
     "cellMetadata": {},
     "inputWidgets": {},
     "nuid": "a662afe6-815d-43b5-8ee1-e76a7b94f710",
     "showTitle": false,
     "tableResultSettingsMap": {},
     "title": ""
    }
   },
   "source": [
    "- we already have shiping delays of the products in df_shipping_delays\n",
    "- top products can get by orderBy quantity of the groupby product_ids\n",
    "- now we got the top 10 products wheer the quantity of orders done is high\n",
    "- join the df_shipping delays to the top 10 products to df_avg_delays\n",
    "- we got the same prduct names twice or thrice so group by product name now and avg the quantity\n",
    "- now the df_top is optimal top products with their quantities\n",
    "- now plot them as pie chart"
   ]
  },
  {
   "cell_type": "code",
   "execution_count": 0,
   "metadata": {
    "application/vnd.databricks.v1+cell": {
     "cellMetadata": {
      "byteLimit": 2048000,
      "rowLimit": 10000
     },
     "inputWidgets": {},
     "nuid": "f9b5a095-2921-4d35-a566-1a4579f6ae5e",
     "showTitle": false,
     "tableResultSettingsMap": {},
     "title": ""
    }
   },
   "outputs": [
    {
     "output_type": "display_data",
     "data": {
      "text/html": [
       "<style scoped>\n",
       "  .table-result-container {\n",
       "    max-height: 300px;\n",
       "    overflow: auto;\n",
       "  }\n",
       "  table, th, td {\n",
       "    border: 1px solid black;\n",
       "    border-collapse: collapse;\n",
       "  }\n",
       "  th, td {\n",
       "    padding: 5px;\n",
       "  }\n",
       "  th {\n",
       "    text-align: left;\n",
       "  }\n",
       "</style><div class='table-result-container'><table class='table-result'><thead style='background-color: white'><tr><th>product_name</th><th>avg_delay_days</th></tr></thead><tbody><tr><td>Yoga Mat</td><td>102.005</td></tr><tr><td>Biography</td><td>97.1</td></tr><tr><td>Toaster</td><td>96.57333333333334</td></tr><tr><td>Smartphone</td><td>95.14333333333333</td></tr><tr><td>RC Car</td><td>81.57</td></tr></tbody></table></div>"
      ]
     },
     "metadata": {
      "application/vnd.databricks.v1+output": {
       "addedWidgets": {},
       "aggData": [],
       "aggError": "",
       "aggOverflow": false,
       "aggSchema": [],
       "aggSeriesLimitReached": false,
       "aggType": "",
       "arguments": {},
       "columnCustomDisplayInfos": {},
       "data": [
        [
         "Yoga Mat",
         102.005
        ],
        [
         "Biography",
         97.1
        ],
        [
         "Toaster",
         96.57333333333334
        ],
        [
         "Smartphone",
         95.14333333333333
        ],
        [
         "RC Car",
         81.57
        ]
       ],
       "datasetInfos": [],
       "dbfsResultPath": null,
       "isJsonSchema": true,
       "metadata": {},
       "overflow": false,
       "plotOptions": {
        "customPlotOptions": {},
        "displayType": "table",
        "pivotAggregation": null,
        "pivotColumns": null,
        "xColumns": null,
        "yColumns": null
       },
       "removedWidgets": [],
       "schema": [
        {
         "metadata": "{}",
         "name": "product_name",
         "type": "\"string\""
        },
        {
         "metadata": "{}",
         "name": "avg_delay_days",
         "type": "\"double\""
        }
       ],
       "type": "table"
      }
     },
     "output_type": "display_data"
    }
   ],
   "source": [
    "df_top_products=df_orders.select('product_id','quantity')\\\n",
    "    .groupBy('product_id')\\\n",
    "        .agg(F.sum('quantity')\\\n",
    "            .alias('quantity'))\\\n",
    "                .orderBy(F.desc('quantity')).limit(10)\n",
    "df_avg_delays=df_shipping_delays.groupBy('product_name','product_id')\\\n",
    "    .agg(F.round(F.avg('delay_days'),2).alias('avg_delay_days'))\n",
    "df_top_products_delays=df_top_products.join(\n",
    "    df_avg_delays,on='product_id',how='inner'\n",
    ").orderBy(F.desc('quantity'))\n",
    "df_top=df_top_products_delays.select('quantity','product_name','avg_delay_days').groupBy('product_name').agg(F.avg('avg_delay_days').alias('avg_delay_days')).orderBy(F.desc('avg_delay_days'))\n",
    "df_top.display()"
   ]
  },
  {
   "cell_type": "markdown",
   "metadata": {
    "application/vnd.databricks.v1+cell": {
     "cellMetadata": {},
     "inputWidgets": {},
     "nuid": "20aa68fc-089f-49b2-b28d-bdeb0b989f8a",
     "showTitle": false,
     "tableResultSettingsMap": {},
     "title": ""
    }
   },
   "source": [
    "# plot the df_top"
   ]
  },
  {
   "cell_type": "code",
   "execution_count": 0,
   "metadata": {
    "application/vnd.databricks.v1+cell": {
     "cellMetadata": {
      "byteLimit": 2048000,
      "rowLimit": 10000
     },
     "inputWidgets": {},
     "nuid": "cf4c8fc1-acee-4ad1-97e8-4afcdd60f5bb",
     "showTitle": false,
     "tableResultSettingsMap": {},
     "title": ""
    }
   },
   "outputs": [
    {
     "output_type": "display_data",
     "data": {
      "image/png": "[encoded data removed]"
     },
     "metadata": {
      "application/vnd.databricks.v1+output": {
       "addedWidgets": {},
       "arguments": {},
       "data": "data:image/png;base64,iVBORw0KGgoAAAANSUhEUgAAAdQAAAHRCAYAAADT6kjfAAAAOXRFWHRTb2Z0d2FyZQBNYXRwbG90bGliIHZlcnNpb24zLjUuMSwgaHR0cHM6Ly9tYXRwbG90bGliLm9yZy/YYfK9AAAACXBIWXMAAAsTAAALEwEAmpwYAABcx0lEQVR4nO3dd3hU17X38e8a9S4QvRcjML270FzAjksSJ4S4xZZzlercKEXc9DdxkuvkJsHJTbl2Gk5wXJIQ4sRxmnHD4CZsg2mmGFENMlUgIU09+/3jHLAACRVmZk9Zn+fRo9HMKb8ZSbNm77PPPmKMQSmllFLnx2c7gFJKKZUKtKAqpZRSUaAFVSmllIoCLahKKaVUFGhBVUoppaJAC6pSSikVBVpQVUoSkctEZG8Hl71LRB6MQ6Y7RGRVrPdzxj7fJyJ7RKRRRCbFc9+pLF5/Myq5aEFNYyLyrIgcFZEc21lUzCwC/tMYU2iMWXM+GxKRjV5hbhSRiIj4W/z8lWiEFZHLReQZETkmIjtbeXyI93iTiGwWkbnn2NZvRSTo5TsiIstFZFQ0ckaLiBgRucB2DhUdWlDTlIgMAWYBBnhPDLafGe1tqi4ZDGzsyooiktHyZ2PMGK8wFwIreadQFxpjvhOFrAAngPuB/2rj8UeANUAZ8FXgTyLS8xzb+76XdwBwAPjtmQuIS98L1XnTP6L0dTvwEu4bTAWAiOSISL2IjD25kIj0FJFmEenl/Xy9iKz1lntBRMa3WHaniHxRRNYBJ0QkU0S+JCLbRaRBRDaJyPtaLJ8hIveIyCER2SEi/+l9Ys/0Hi8RkcUisl9E3hKR/z7zTb7FtvK8FslREdkETDvj8X4iskxEDnr7qmrrhRGRpSJS57WSnhORMd7900Tk7ZYZROT9IvJ6G9spE5HHROS4iNQAw894/Mded+xxEXlVRGZ59/fxWmBlLZad7GXPEpELRGSFl++QiPyhlX3niEgjkAG8LiLbvfsv9Hom6r0W53tarPNbEblPRP4hIieAy9t6jc7Yl09EviYiu0TkgIg8ICIl3mNDvN/px0Rkn/e7XNjWtowxNcaY3wG1reynHJgMfMMY02yMWQasB+a3l9EY0wQ8DIz1tvWsiNwtIs8DTcAwEblURFZ7r+tqEbm0xb6Heq95g4gsB3q0eOyswwve/8Jc73aGiHylxf/BqyIyUESe8xZ/XdxW9I0i0kNEHvd+P0dEZKVosU8a+otKX7cDD3lfV4tIb2NMAPgzcHOL5T4IrDDGHBD3GNz9wMdxWwi/AB6T07uMbwauA0qNMWFgO25LuAT4JvCgiPT1lv0ocA0wEfeN8oYzMv4WCAMXAJOAq4CPtPF8voFbsIYDV+N9SAD3DR/4G/A60B+4EvisiFzdxrb+CYwAegGvea8RxpjVwGEvx0m3AQ+0sZ3/A/xAX+A/vK+WVuM+9+64b/ZLRSTXGFMHPIv72rfcz++NMSHg28ATQDfcltdPz9yxMSbgtcwAJhhjhotIlvc6POE9t08DD4nIyBar3gLcDRQBHT3ee4f3dTkwDCgEfnbGMpfjvqZXAV+Uc3TVnsMYoNYY09Divte9+89JRAqBW3FbtyfdBnwM97k2AH8HfoL7t/1D4O8tPtQ8DLyKW0i/TYu/rw74PO7/xbVAMe7fQZMxZrb3+ASvlf8HoBrYC/QEegNfwe1FUsnAGKNfafYFzARCQA/v583A57zbc4HtLZZ9Hrjdu30f8O0ztrUFmOPd3gn8Rzv7Xgu817v9NPDxFo/NxX3zyMR9MwkAeS0evxl4po3t1gLvavHzx4C93u2LgN1nLP9l4Dfe7buAB9vYbqmXqcT7+YvAQ97t7ritm76trJfhvcajWtz3HWDVOV6bo7hvrgA3As+32FYdMN37+QHgl8CADvyuDXCBd3uWtx1fi8cfAe7ybv8WeKCDf0PPAh/xbj8F3NnisZHec88EhngZWr4O3wcWt7P9ucDOM+67DXjpjPvuBn7bxjZ+i/uBpt573o8Bw1vk/9YZ2645Y/0XcT8oDML9YFfQ4rGHT/7NAJed/Ftr8fhOYG6L/5H3tvf78X7+FvDXlvfpV/J8aQs1PVUATxhjDnk/P8w7n7ifAfJF5CJxj7NOBB71HhsMVHvdUfUiUg8MBPq12PaeljsSkdvlnS7ietwut5PdZf3OWL7l7cFAFrC/xbq/wG1ZtebMbe06Y1v9zsj9FdyifRqve+5/vO6547hvjLTI/CDwbhEpwG1BrjTG7G8lT0/cgtJWJkRkoYi84XUx1uO24k/u56/AaBEZCswDjhljarzHvgAIUON1257Z8m1LP2CPMcY5I1P/Fj/vofP6cfpz28U7H4pa2+4uTv+b6ahG3BZeS8W4rcu2LDLGlBpj+hhj3mOM2d5GpjOfw8mc/b3HjhpjTpzxWEcNxO2p6YgfAG8CT4hIrYh8qRP7UZbpwJE0IyJ5uIUgQ0TqvLtzgFIRmWCMeV1E/ojbGnwbeNy808W2B7jbGHP3OXZxqntKRAYDv8LtYn3RGBMRkbW4xQBgP26X5UkDW9zeg9tC7WHcruP27PfWPzkAZ9AZ29phjBnRge3cArwXr4WEW+SOnsxsjHlLRF4E3o/bqrmvje0cxG3VDMTtATgtk3e89Au4r81GY4wjIi334/d+Dx8CRgG/O7mucbuEP+ptZybwpIg8Z4x5s53ntg8YKCK+FkV1ELC1xTJd6V7ch/uh5aSTLbq3eef3e+brsK8L+9mIe6yzqMXf5ATcD4Rd0fK5nvkcwM35L9y/rW4iUtCiqA5qsf4JIP/kSuIeY285UGoP7qGIDe0Gcp9XNe4H17HA0yKy2hjzVIeflbJGW6jp5wYgAozGbX1OBC7EHbV5u7fMw7hdjrdy+pvVr4BPeK1XEZECEblORIra2FcB7pvOQQAR+TDeoBDPH4HPiEh/ESnF7U4FwGv1PQHcIyLF3sCX4SIyp419/RH4soh0E5EBuMcHT6oBGsQdMJXntULHisi0VrZThFvID+O+SbY2evUB3GI4DveY81mMMRHvsbtEJF9ERnP6cbci3KJzEMgUka9zduvrAdwux/fQoqCKyALvOYJb7A3g0L6XcbuovyDu4KbLgHcDv+/AuufyCPA5b+BOIe5r9oczPgj9P+91GAN8GDhrIBWcGuCUi9s7ISKSKyLZAMaYrbiHDL7h3f8+YDyw7DzzA/wDKBeRW8QdTHcj7v/I48aYXcArwDdFJNv7EPPuFutuBXK9/4Us4Gu4H1JP+jXwbREZ4f3fjG9xbPZt3OPOJ5//9eIOOhPgGO7/akd+tyoBaEFNPxW4xw53G2PqTn7hDiK5VUQyjTEv437q7oc7QAcAY8wruC2jn+G+kb+J+4bfKmPMJuAe3GNRb+MWoOdbLPIr3KK5DnewyD9wi0zEe/x2IBvY5O3vT7gDfFrzTdxuuB3eNlu26CLA9bgfHnYAh3Df5Epa2c4D3nbe8vb7UivLPIrbmnnUuKNH2/KfuAN06nCP5/2mxWP/xm39bPX25+eM7lZjzPO4b6aveW/qJ00DXhZ3FO9jwGeMMWeNij2TMSaIWwiuwX0N7sU9Pr75nCu2737c1/s53NfXz+kfaABW4P69PIXbDftEG9uaDTTj/i0M8m63XPYmYCru38P/AB8wxhw8z/wYYw7j/o1U436Y+gJwfYvDIrfgHos/gjsA7oEW6x4D7sT9m3oL93+n5ajfH+J+4HsCOA4sBvK8x+4ClniHIj6IO3DrSdzu7ReBe40xz5zv81PxIcboADKVGETkGuDnxpgzu94SjrinoXzcGPNkjPfzNPCwMebXsdxPrHjH4XcAWR3sulcqaWkLVVnjdb9e63Wx9cf95P9oe+vZJiLzcbtZn47xfqbhnk7UaveoUiqx6KAkZZPgdtX+Abdr7+/A160maoeIPIt7bO22M0bLRns/S3CPd3/GnH7epVIqQWmXr1JKKRUF2uWrlFJKRYEWVKWUUioKtKAqpZRSUaAFVSmllIoCLahKKaVUFGhBVUoppaJAC6pSSikVBVpQlVJKqSjQgqqUUkpFgRZUpZRSKgq0oCqllFJRoAVVKaWUigItqEoppVQUaEFVSimlokALqlJKKRUFWlCVUkqpKNCCqpRSSkWBFlSllFIqCrSgKqWUUlGgBVUppZSKAi2oSimlVBRoQVVKKaWiQAuqUkopFQVaUJVSSqko0IKqlFJKRYEWVKWUUioKtKAqpZRSUaAFVSmllIoCLahKKaVUFGhBVUoppaJAC6pSSikVBVpQlVJKqSjQgqqUUkpFgRZUpZRSKgq0oKqoE5GIiKwVkQ0i8jcRKW3x2EIR2ew9vlpEbm9jGx1aTimlEoUWVBULzcaYicaYscAR4FMAIvIJYB4w3RgzEbgSkDNX7uhybRGRzPN9Akop1VlijLGdQaUYEWk0xhR6tz8BjDfG3Ckiu4HLjDG17azf5nIi8nXg3UAe8ALwcWOMEZFngbXATOARY8w90XxOSinVHm2hqpgRkQzc1uVjIlIMFHWgmLa33M+MMdO81m8ecH2Lx7KNMVO1mCqlbNCCqmIhT0TWAnVAb2B5FLd9uYi8LCLrgSuAMS0e+0MU96OUUp2iBVXFQrN37HMw7rHPTxljjgONIjLsXCueazkRyQXuBT5gjBkH/ArIbbHIiSjlV0qpTtOCqmLGGNMEVAHV3kCh7wL/53XrIiKFbYzebWu5k8XzkIgUAh+I+ZNQSqkO0tGQKqaMMWtEZB1wM3AfUAisFpEQEAJaO97Z6nLGmHoR+RWwAbc7eXU8noNSSnWEjvJVSimlokC7fJVSSqko0IKqlFJKRYEeQ1UqwTh15RlAMVDifZW2uN3yKwdwWnxFzvi55X0R4DhwGDjkfR0GDvn6bPXH55kpldr0GKpSceTUlWcDg4Ch3teQFt8H4BbPwjjHaqJFgfW+DgC1wDbva4evz9ZInHMplVS0oCoVZV4LczQwERjB6UWzH8l5qCUE7OCdArsN2Op93+Prs9WxmE2phKAFVanz4LU4xwKTva8pwDjcaRHTRQDYDLwKvOJ9ve7rszVoNZVScaYFVakOcurKs3BbnVO8r8m4xTTbYqxEFXQMr1TumbUG9yIGzy+ZvniX7VBKxZIWVKXOwakrHwvMxb2c3BygwG6i5NHkZGz41N5Lx7a46y284gqsAtYsmb5Yu4pVytCCqlQLTl15X9ziOdf76ms3UfJ6w1+y4vsHxs85xyIHgb8DfwOeWDJ9cWN8kikVG1pQVVpz6soLgMt4p4iOOecKqsMeOTr0hScaBlzawcUDwArc4vo37R5WyUgLqko7Tl15Me5FyhcAV3P6FWtUlHxp39Q9b4fzBnZx9fV4xRWo0a5hlQy0oKq04BXRG3CvUHMV7qQIKkYcw6HKPbN6RGlzB3ina/hfS6Yvbo7SdpWKKi2oKmV5p7RcC9wKXI+2ROPmcDi7ZuG+i6bHYNPHgIeBXy+Zvvi1GGxfqS7TgqpSjlNXPhv4EG5rtJvlOGnpxRM9V/zy8KhzDUiKhjXAYuChJdMX18d4X0q1SwuqSglOXXkhcDvwKdxZipRF/3dw1GuvNPecHKfd+YFlwK+BFUumL9Y3NWWFFlSV1Jy68pG4RbQCd0J5ZZkxmE/tveR4s8kssbD7N4H7gd8umb54v4X9qzSmBVUlHaeu3Ic7Svc/gSsBsZtItRQysv1je2YOtxwjAvwT+BXwuI4SVvGgBVUlDaeuvAz4KPAJYLDlOKoNu4MFq75RN3mm7RwtbAG+i3usNWw7jEpdWlBVwnPqyocDXwFuQUfqJrx/HB+wcmn90Fm2c7RiB/B94DdLpi8O2A6jUo8WVJWwnLryYcDXgNuATMtxVAf9d92ELduDxSNt5ziHt4BFwC+XTF/cZDuMSh1aUFXCcerKh+IW0tvRQppUjKGpcs/MHINk2M7SAQeBHwH/t2T64uO2w6jkpwVVJQynrnwwbiGtALIsx1Fd0BjJfP3Tb10ywXaOTqoHfgr875Lpi49YzqKSmBZUZZ1XSL8K3IEW0qS2obl0xT0Hx8V6QodYaQR+Dnx/yfTFB22HUclHC6qyxrtU2jeAD6MX6U4JDx4Z/uJTjf0usZ3jPB0Dvgn8VEcFq87w2Q6g0o9TV57l1JX/F+7pDB9Hi2nKeL25+xDbGaKgBPghsK6ipnKe7TAqeWgLVcWVU1d+FfATIJFHgaoucAx1lXtm9bGdIwb+Cnx+yfTFtbaDqMSmBVXFhVNXPgR3ROUNdpOoWDkYznnpC/umX2w7R4wEgHuA7yyZvviE7TAqMWmXr4opp648z6krvwt4Ay2mKW2zv9RvO0MM5eBOLrKloqbyFtthVGLSFqqKGaeu/P24x6J0msA08JODo9euaS6baDtHnKwCqpZMX7zGdhCVOLSgqqhz6spHAP8H6ICONGEMzif3XtIUMJmFtrPEkYN7ybgvLZm++KjtMMo+7fJVUePUlYtTV/4pYC1aTNNK0Pi2p1kxBff982PA+oqayrm2wyj7tKCqqHDqygcA/wZ+BuRbjqPibF8ov852Bov6A09U1FT+pKKmMs92GGWPFlR13py68tuA9WirNG2t83ezHcE2AT4NvFpRUznZdhhlhx5DVV3m1JX3AH4BvN92FmXXXXUTt+0KFo2wnSNBhIBvAd9dMn1xxHYYFT/aQlVd4tSVvwfYgBbTtGcMDbuDhcNt50ggWcC3gecqair1dUkjWlBVpzh15cVOXfn9uLPH9LadR9nX6GS+aRB9LznbpcDaiprKj9kOouJD/wlUhzl15dOA13Ens1cKgO3BYr2WaNsKgV9U1FT+raKmUj+ApjgtqKpDnLry/wBWAkMsR1EJZk1T91zbGZLA9bin11xjO4iKHS2o6pycuvJsp67858Bi3OnXlDrNOn/3obYzJImewOMVNZVfsB1ExYaO8lVtcurK+wN/AlJ1wnN1niKGtz6yZ1Z/2zmS0IPAR5dMX5zK8x+nHW2hqlY5deWzgVfRYqrO4VA4d7ftDEnqQ7ijgPvZDqKiRwuqOotTV14FPIWO4lXteMNfGrSdIYlNA16pqKmcbjuIig4tqOoU71JrvwN+DGTazqMS32vNZd1tZ0hyfYEVFTWVt9kOos6fHkNVADh15YNwzy2daDmKShLGEP743ktDIZOh89dGxyLgi0umL3ZsB1Fdoy1UhVNXPgZ4AS2mqhMCxrdNi2lULcQdBVxiO4jqGi2oac6pK5+Be36pjtRUnbI3VHDQdoYUdA3wckVNZbmNnYvIV0Vko4isE5G1InJRDPbxlQ4ut1NEekR7/7GkBTWNOXXl7waWA2l/qRDVeeuau+v7R2yMxC2ql8ZzpyJyCe4EFJONMeOBucCeKG5fRMQHdKigJiP9h0hT3sxHjwLaZae6ZE1zmfZqxE4p7jVWL4/jPvsCh4wxAQBjzCFjzD6vpfhdr8X6iohMFpF/i8h2EfkEgIgUishTIvKaiKwXkfd69w8RkS0i8gDuxTQWA3neth7yHt/s3X5DRP4kIi2vp/zpFtsc5W2zu4j8xWtFvyQi47377xKR+0XkWRGpFZGqkxsRkQ+JSI2331+ISEYsXkAtqGnIqSv/Cu4fdkz+qFTqM4Zje0P5Q2znSHEFwN8rairfFaf9PQEMFJGtInKviMxp8dhuY8xE3MNDvwU+gHuO+je9x/3A+4wxk4HLgXtERLzHRgD3GmPGGGM+DDQbYyYaY271Hh/pPX4hcBy4s8V+D3nbvA/3GDPePtd4reivAA+0WH4UcDUwHfiGiGSJyIXAjcAM7zlEgFuJAS2oacSpKxenrvzHwN22s6jkdszJehNOvWGq2MkD/lpRU3lDrHdkjGkEpgAfAw4CfxCRO7yHH/O+rwdeNsY0GGMOAgERKcW9wPp3RGQd8CTumIyT57HvMsa8dI5d7zHGPO/dfhCY2eKxP3vfX+WdecRnAr/zMj8NlIlIsffY340xAWPMIeCAl+FK73mtFpG13s/D2n1BukALappw6sqzgYeBqvaWVao9bwaKG2xnSCPZwNKKmsqbYr0jY0zEGPOsMeYbwH8C872HAt53p8Xtkz9n4rb4egJTvFbg28DJiyacaG+35/j55L4idOzc+JbZTq4jwBKvVTzRGDPSGHNXB7bVaVpQ04BTV54HPA7E/B9SpYc1zWUFtjOkmUzgoYqayphdOlFERorIiBZ3TQR2dXD1EuCAMSYkIpcDg8+xbEhEslr8PMgbEAVwC7CqnX2txOuyFZHLcLuFz3UJwaeAD4hIL2+d7iJyrnxdpgU1xXkt00eBebazqNSxvrlbTLrM1Dn5gMUVNZV3trtk1xQCS0Rkk9d1Oxq4q4PrPgRMFZH1wO3A5nMs+0tgnYg85P28BfiUiLyBe8bBfe3s6y5gipfxf4CKcy1sjNkEfA14wltnOe4ArKjTmZJSmFNXnol7tZj32s6iUkfYyO6P7pk5yHaONPdfS6YvXmQ7xPkSkSHA48aYsbazRIO2UFOUU1eegfupUYupiqoD4dyonZuouuwHFTWVX7cdQp1OC2oKcurKBfe0mA/azqJSz0Z/t7DtDAqAb1bUVH7XdojzYYzZmSqtU9CCmqrupZ3jCkp11ZqmsqSaDi7FfamipvKrtkMolxbUFOPUlf8I+ITtHCo1GUNwW6D4Ats51Gn+u6Km8qO2QygtqCnFqSu/G/is7RwqdflNxrYwvhzbOdRZ7quoqXyf7RDpTgtqinDqyr9GCk86rRLD7mDBYdsZVKsygEcqairntLukihktqCnAqSv/KPBt2zlU6lvbXKbzPyeuHOCxiprKibaDpCstqEnOqSu/CncQklIxt7a5+wDbGdQ5FeNOqK+/Jwu0oCYxp658LLCUjs1xqdR5cQyH68L5MZmyTUVVP9yiWmQ7SLrRgpqknLryPsDfcT+RKhVz9ZHsWtsZVIeNx51QXz9sx5EW1CQ0z7cg78iBzHsBnf5Nxc22QHF7Vw1RieVq9HBQXGlBTU6LP3zpqKve3pP1su0gKn2saS7TLsTk89GKmsov2g6RLrSgJpl5vgVfBG72N2UUVFx84bTVTxc9azuTSn3GYNY3d9MJHZLTdytqKq+zHSIdaEFNIvN8C64FvnPyZ2PE97UPDbtsyQ96rzKGoMVoKsWFkZ1NJqvEdg7VJQI8UFFTqYeIYkwLapKY51swCniYVn5nD/+oz8yv3z70DcdBT7pXMVEXynvLdgZ1XroDf6ioqcxqd0nVZVpQk8A834JS4K9Amy2EmqeKJ3xk9sgTQb9sj1swlTY2+rs5tjOo83Yx7gW5VYxoQU0ODwDl7S30Vm3uoJsmjul5+O3MV+KQSaWR15rLetnOoKLi8xU1lXqN5BjRgprg5vkWfBJ4d0eXP3E8o/hDU0ZPWv9SwYoYxlJpxBiat+sVZlLJbytqKofYDpGKtKAmsHm+BSOBRZ1dz3EkY+H7L5iz9N6ezxmDXgxanZcmk7nNQXSCgNRRCvyxoqYy23aQVKMFNUHN8y3IAh4C8ru6jV//d7/Zd3988DrjcCx6yVJX5efeps/YWsZftuvUfTd9fD+T5+5i8txdDJu2g8lzd521nt/vcPE1u5l05S7GzdnFXT94Z2zYh+6sY+IVu/jqdw6duu/uHx3hL/9sjO2TiaKdwcKjtjOoqJtGFz6sq3PTgpq47gKmnO9GVj5eOvkTc8uPhIJydiVQp6n4YDH/eLjfaff9/hd9ee3Jwbz25GDef10h77u28Kz1cnKEJ/80gDVPDea1Jwfx72dO8NKrzazbFCAvT1j79GBWv+7n2PEI+98O8/IaPzdcc/Z2EtXa5u7akklNn66oqfyA7RCpRAtqAprnWzADiNrsJjs35w29edLo4mOHM9ZEa5upaPYleXTv1vrVyYwxLP1bIzfdcPZkQSJCYYH7rxQKGUIh976sTKG52eA4hnAIMjKEb3z/MHct7B7T5xFtrzd3H2g7g4qZxRU1lcNth0gVWlATzDzfgiLgd7gXDI6ahqOZ3W6eNGbslrV5K6O53XSx8iU/vXtkMGJY6421SMQwee4u+oyrZe6cfC6anMuF5dn0LMtg6lW7uf6qAt7cEcIxMHl8bpzTd51jOHAwnKeXAktdxbiT6OfYDpIKtKAmnp8CQ2Ox4UhYsqquLZ/1tyVlK4xBzyvshN//pYGb3tf2VLYZGcJrTw5m92tDWb3Gz4bNAQB+9O2evPbkYD7/iW58/fuH+dYXyvjO/x7hxo/t51cPJv6h7SORnB22M6iYmwTcbTtEKtCCmkDm+RZ8AKiI9X5+9uUBcxZ9duCrxtAQ632lgnDY8Og/Gvnge9o/7llaksFlM/L49zNNp93/1381MmV8Do0nHLbvCvGHX/Zl2eONNDUl9ueaLf6SZtsZVFx8tqKm8rzHbKQ7LagJYp5vQT/gF/Ha35NLu0+runZEXTjM3njtM1k9+VwToy7IZkC/1mdtO3goTP2xCADNzQ5Prmhi5AXvLBsKGX7yq3r+685uNPsNIu79jmMIhkzM85+P15rLdP7e9JAB/Eqvn3p+tKAmgHm+BQL8Fne+zbjZ+nr+iA9NGZ3TeMy3Pp77TVS3fHI/M67fw5btQQZN3sHih90u2T/8tYEbbzi9dbqvLsx1t7rT2+4/EOHKD7zFxCt2cdE1e5g7J5/r572z/L2/qee2DxaTn+9j/OhsmpodJly+i8njcyktieqh8qgyBmeTv1QndEgfk4DP2Q6RzMSYxP6EnA7m+RZ8FviRrf1nZTuBn/1r6ytDRgVm2MqgEk/Q8b358b0ztKCml2Zg7JLpi2ttB0lG2kK1bJ5vQTnwXZsZQkFfzsevGDXjyT91e9YY9BOWAmBfOK/OdgYVd3nE8dBTqtGCat//AglxHsUPqgZd9rMv93/ZGJraX1qluvXN3fXDVXqaW1FTebvtEMlIC6pF83wLrgeusZ2jpccf6HFx9Q0X7IpE2G87i7JrTXNZb9sZlDU/rKip7Gk7RLLRgmrJPN+CbCweNz2XjasLLrx9+oXS1OjbZDuLssMYTuwMFuoMOumrjAR9f0pkWlDt+SyQsAM+Du3P7nPj+DFD9+3IftF2FhV/jU7mNoMk7hBkFQ+3VtRUvst2iGSiBdWCeb4FfYCv2c7RnqDfl/fhGaMufv6fxc/azqLia0ewqN52BpUQ7quoqSywHSJZaEG143tA2/PYJRSRb1UOvezX/933eWMI2E6j4mNtc1me7QwqIQwBvmk7RLLQ81DjbJ5vwUXAi4DYztJZE2c2bPjuI7W9fRnoYIUU9/m3ptcdjeT0sZ1DJYQQMHLJ9MU6r3M7tIUaR96MSD8hCYspwNpVRWM/PGNUMNAs22xnUbETMezXYqpayAK+bTtEMtCCGl93ANNthzgfdbtz+t84fkzfg29l1djOomLjcDhXL0avznRzRU3leNshEp0W1DiZ51tQjOUZkaKl+URG4W3TL5z66orCFbazqOh7I1Dit51BJRwf8B3bIRKdFtT4+X9Aypwob4z4vnLz8DkP3tN7pTGEbOdR0bOmqayb7QwqIV1XUVM503aIRKYFNQ7m+RaMBD5jO0cs/O6ePrPuumPIRsfhiO0s6vwZQ+SNQOkI2zlUwvof2wESmRbU+Phv3AP7Keml5SUTPzpnZEMwIHqFiiQXNL43gyYj33YOlbBmVNRUXm87RKLSghpj83wLRgHvt50j1vZuzx1888TRZUcOZL5qO4vqur2hgrdtZ1AJ7zsVNZVaO1qhL0rsfZE0eZ0bj2WW3Dpl9IQNNfnP2c6iumZ9c7e0+FtV52UccIvtEIlI/3liaJ5vwSDgVts54smJSGb1DSNmL/tFj+eMIWI7j+qcNc1lfW1nUEnhWxU1lSl7GKurtKDG1kJS+Njpufzym/1nf/eTg9YawzHbWVTHGMOx3aGCYbZzqKQwFPi47RCJRgtqjMzzLegJfMR2DptWPNZtyp3zyg+FgqITBSSB407WdpCknMVLWfE1nTj/dFpQY+ezQNpPMF67KW/4LZNHFx0/mvG67Szq3LYHio7bzqCSSm/c2d+URyfHjwFvVqTdQIntLIkiM8sJ/vjxN1++YFzzLNtZVOsWHx5Rs+pEn6ScGvPE242suus5/Ef8IFB+w0guvGkMgWMBnvvaMzTua6SwXyGz776cnOKcs9Z/8jP/5uCGg/Sa0Jsrfzjv1P0rv/4sR7cfZcCMgUy+cyoA6+5fS+nwbgyaMzhuzy+BbQVGLZm+WAsJ2kKNlTvRYnqacMiX/amry2f948HuK4zBsZ1HnW1dc/ehtjN0lWT4mPqZ6bz3D+/n2sXvZvOf3qC+9igbHlhHn6l9ed+yD9Bnal82PLCu1fXHfGgcM++afdp9R7cdISMnk/c89D4Ov3GIYGOQpkNNHNp4UIvpO8qBa2yHSBRaUKNsnm9BHvA52zkS1Y+/MHDODz8/8BVjaLSdRb0jYmTvcSc7aS/Ll98jn7JRPQDIKsiiZEgpTQeb2PPcLoZf5078NPy6EexZ0frh/L7T+pGVf/r4Qcn0EQmEMY7BCTuIT1j7y9eY8NFJsX0yySclZ4HrCi2o0VcJ9LIdIpE98Yfu0z9z3Yh9kTBv2c6iXAfCuXtsZ4iWxn0NHNl6mB5jetJ8xE9+D3fip7yyPJqPdHze/9KhpeSW5vL47X9lwMyBNOw9Do45VbjVKVdV1FReaDtEIsi0HSCVzPMtyMQ9VUa1Y8va/PIPTR198NfPbd5QUOyMtZ0n3W3ylwZtZ4iGUFOIZ7/0NNM+dxHZhdmnPSYinR7DPO3zF5+6/XT1ci7+0gzW/WYtR7cdoe/0/pTfMDIasVNBFfBJ2yFs0xZqdN0K6MGVDjpyIKvnjRPGXLBra87ztrOku9eay7rbznC+nLDDs196mmHvGs7gy4cAkNc9l6ZDTQA0HWoit1tul7a9e8Uuuo8qI9wcomFvA3O+cwW7nt5J2B+OVvxkd3tFTWXaX6VIC2p0aeu0k0IBX+7HLhs145m/lD5rDDpS0AJjCG3zlyT1FWaMMbzw3yspHVLC6Fve6fAYMGsQ2/++DYDtf9/GwNmd/7zrhB3e+P1Gxt42nrA/fKqVaxwHJ6STgXnySfPz7kFPm4maeb4F04GXbedIZu/9j4MvfvLb+yaK6Pm78dTsZGy6c++lo23nOB9vr63j3x//B6UXdEO8ijfpk1PoMbYnz33lGU7UnaCgbwFz7r6CnJIcDr1xiK1/3sylX3Uv7/mvj/2dY7uOEW4OkVOcwyVfm0n/iwcAsOmRjWQXZXPB9SMwxrDy/z1LfW09/S8dwJT/nGbtOSeg3cCwJdMXp+2nDC2oUTLPt+Be9BjCeRt3SeOm7/1xe1lGRupcjD3RbfUXP/fdAxNmt7+kUu1asGT64j/ZDmGLdvlGwTzfghzgJts5UsH6FwtHV1x0odN8wrfZdpZ0sc7fPcN2BpUy0voUGi2o0fFeIO0PyEfLwX3ZfW8cP2bQ/l3ZL9nOkg7WNHXvbzuDShkzK2oqJ9sOYYsW1Oi4w3aAVBNo9uXfccmoi178d/GztrOkMmM4ui9cMMR2DpVS/tN2AFu0oJ6neb4F/YCrbOdITSJ3fXjoZfd/t8/zxhCwnSYV1Ueyt9vOoFLO+ytqKs+eMDkNaEE9f7cBegwqhv7w094zvnbr0C2OwyHbWVLNm8FinQJSRVsJaTq/rxbU81dhO0A6eOXZ4vGVM0f5A82yzXaWVLKmqazQdgaVktJykKYW1PMwz7fgIkDnsIyTfTtzBtw4YUyfQ/uzVtvOkirW+7sNt51BpaTrK2oq822HiDctqOfnDtsB0k1zY0bRbdMunLx2VeEK21mSXdjIzkYnS0enq1goAN5tO0S8aUHtIj331B7HkYwvfnD4nN//pNdKYwjZzpOs6kJ5erUfFUtp9/6oBbXrbgBKLWdIa7/5n76zvlU5ZINxqLedJRlt9JfqzO4qlq6pqKksth0inrSgdt0dtgMoeOFfJZM+dsXI+lBQdtjOkmzWNJcl7QXFVVLIAd5nO0Q8aUHtgnm+Bd2AebZzKNfurblDbp44ulv9oczXbGdJFsbgfzNQnNRXmFFJIa26fbWgds1V6LmnCaWhPrP05kmjx7/xav5ztrMkg2aTsS2CL8t2DpXy5lbUVJbZDhEvWlC75l22A6izORHJ/Oy7R8z+y+IeK4whbS8h1RG7goVHbGdQaSET+IDtEPGiBbVrrrYdQLXtvv/Xf873/nPQGmM4bjtLolrb3F1bpypebrQdIF60oHbSPN+CCUBf2znUuT3zaLepn7qq/GA4xB7bWRLR681lA21nUGljTkVNZVoMgNOC2nna3Zsktm/MG37L5DH5DfUZ62xnSSSO4dDb4TwtqCpefMDltkPEgxbUztOCmkSOHc4su2nC6FG1m3JX2c6SKI5GsvUUIxVvV9gOEA9aUDthnm9BETDDdg7VOeGQL/uTc0fO/Pfvuz1rDMZ2Htu2BkpO2M6g0o4WVHWWKwEdzJGkfvj5QZf9+AsDaowhrQvKa01laTV7jUoIIypqKgfYDhFrWlA7R7t7k9w/Hyq76HPvuWBvJMx+21lsMAazUa8wo+xI+eOoWlA7R0+XSQFvvFow8rZpozNONPg22s4Sb2GkttlkltjOodJSynf7akHtoHm+BaOAIbZzqOg4/HZWrxvHjxm+d3vOC7azxNP+UH5atsxVQtCCqk7R7t4UEwr4citnjbp0xWMlz9rOEi8b/N3SflCWsmZQRU1lSh9u0ILacVpQU9R3PjHksp9/o98LxuC3nSXWXmsq62U7g0prKd1K1YLaAfN8CzKB2bZzqNh59Fc9L/3CguHbnQgHbGeJFWNoqg0WXWA7h0prWlAVFwJ5tkOo2Fr3QuGYOy69MOxvki22s8TCCSdzm0H0KknKpstsB4glLagdM8l2ABUfb+/J7nfj+DED3t6T9bLtLNG2M1hYbzuDSnt9KmoqR9sOEStaUDtGC2oa8TdlFFRcfOG01U8XPWs7SzStbS7Ltp1BKVL4fFQtqB2jBTXNGCO+r31o2GVLftB7lTEEbeeJhtebuw+xnUEpYLLtALGiBbUd83wLBJhoO4ey4+Ef9Zn59duHvuE4HLad5Xw4hrpDkVy97KBKBONsB4gVLajtGwbozDJprOap4gkfmT3yRNAv221n6arDkZydtjMo5RldUVMptkPEghbU9ml3r+Kt2txBN04Y0/NwXeYrtrN0xWZ/acqfY6uSRgFuQyXlaEFtnxZUBUBTQ0bxh6aOnrTuxYIVtrN01prmslLbGZRqYaztALGgBbV9WlDVKY4jGf81/4I5f/y/ns8ZQ9h2no4wBmeTv0QndFCJJCWPo2pBbV/KjkhTXbf47n6z7/744HXG4ZjtLO0JGt/2gMkstJ1DqRa0oKabeb4FfYHetnOoxLTy8dLJn5hbfiQUlF22s5zLvlB+ne0MSp1Bu3zTkHb3qnPauTlv6M2TRhcfO5yxxnaWtqzzd7MdQakzlVfUVKbcRCNaUM9NC6pqV8PRzG43TxozdsvavJW2s7RmTXNZH9sZlDpDJjDKdoho04J6blpQVYdEwpJVdW35rL8tKVthDI7tPCcZQ8PuYGFKX4NSJa2UO46qBfXcUvJcKRU7P/vygDmLPjvwVWNosJ0FoMHJ2m4Q/T9XiUgLaprpbzuASj5PLu0+7dPXjKgLh9hrO0ttoKjedgal2pByA5O0oLZhnm9BNtDTdg6VnLatyx9x65TRuY3HfOtt5ljT3F2v46sS1YW2A0SbFtS29QVScr5JFR/1h7J63DRhTPnOzTnP28qwzt99qK19K9WOlOsB1ILatpT7Zav4CwV9OR+/YtSMJ//UbYUxmHjuO2J4qz6S0yue+1SqE3Iqaip72A4RTVpQ26YFVUXND6oGzfnZl/u/bAxN8drnoXDu7njtS6kuGmA7QDRpQW2bFlQVVY8/0OPi6hsu2BWJsD8e+9vkL02JC6OrlJZS77NaUNuWUr9olRg2ri648PbpF0pTo29TrPf1WnOZTpGkEp22UNOEFlQVE4f2Z/e5cfyYoft2ZL8Yq30YQ3hLoGRErLavVJSk1Ptspu0ACSylftEqsQT9vrwPzxh18dcX73x2xjXHL4v29gPGty1kMlLutASVXIzhhDEcjji+Y+FwxolgMDMYCGYZvz87ozmQneP3Z+cx3XbK6NGC2jYtqCrGRL5VOfSyBXceeL7yq/unipATrS3vDRUcJAXP81P2GUMQOBRxfPWRsO9EMJTpDwSzHL8/S/yB7Gy/P7vAH8gqCQSzyhzHVwAUnGNz++IUOy60oLZNC6qKi6X39pqxbV3ehu8+UtvblxGdyUTWNXfXwzmqw7z5p484jhyJRDIaQuGM5kAwMxIIZNPsz8ry+7Pz/YHsokAwsywcziwF+nlf5yulTpvRgtqKeb4F3YFc2zlU+li7qmjsh2eMeusXz2zZmptnys93e2uay/QDocIYjhsjhyMR3/FQOKMpGMwMua3J7MzmQFau359dFAhkdQuGMstAehD/ApdSs9FpQW2dvhmpuKvbndP/pvFjGn/57JaaXv1DXT6yZAzH9obyh0QxmkogxtBsDIcdx1cfDmecCIYyg16Xq8/tcs0q9AeySwPBzDJjfMVAse3M55BSLVQxJq6TtySFeb4FVwH/tp1DpScR4/z3Q7Urp17WOKcr69dHsl793FsXT4l2LhU7xhAGDjuOHA1HMhpDoUx/IJgZ8fuzxR/IyvKOSxYHglndI5GMRC6QnWWArNqq6ojtINGgLdTWnesgulIxZYz4vnrL8Dm3VdetvPXzb18sQlZn1n8zUJwQl45Ld95Uk0cdI0ciEd/xcCjDHwhmhQLBLJr92Zl+f1aeP5BdFAhkdQ+FM7qD9AZ6284dZwKUAQdsB4kGLait0+Onyrrf3dNn1rZ1eWu/8Zudg3w+und0vTXNZfqBMIaModEYORxx5Fg4nNEUDGYFAsFM3jkVJKvQPS6ZVWaMdIeO/+7SVAnpUFBFRICVwN3GmH969y0AKo0x74pmEBF5FveC3oON1w8tIn8B5hpjCs+xXilwizHm3ijG0UteqYTw0vKSiR+dM3LXfU9urc/OMR264P365m4dWk69o+WpIOGwrzEUygwEAlmOP9DqqSCFQJvvSarTMmwHiJZzFlRjjBGRTwBLReQZb/nvAFEtpi3UAzOAVV6h7NuBdUqBOwEtqCol7d2eO/jmiaOP/WrFlle79wqf89ho2MjuBid7ULyyJbKzTgVxu1zD/kAW/kB2ltflWhyDU0FU56RHQQUwxmwQkb8BX8Q9tvggcI+IDAOagI8ZY9aJSE/gYdw/yBeBecAUY8whr6U5ELcr9cfGmF+2sbvfAzcBq4D3A38GxgCISCHwV6AbkAV8zRjzV+B/gOEishZYboz5r06/CmdL2S5fv2liI6sJ4geE/gxlkIzgbbOXWjZxguNM5wqKpfVeqpAJ8gav0shxAEYzlVIpY5tZx2HeppASxoo7QHW/2UWIIINEZ8A7X43HMktunTJ6wg+Wvfnc2OlNs9ta7kA4dw+Q0gXVGI55p4I0nDoVJJBlmgPZmX5/dq4/kHXyVJDulk4FUZ2TPgXV803gNSCIW+zWGGNuEJErgAeAicA3gKeNMd8VkXcBlS3W/w9jzBERyQNWi8gyY8zhVvbzFPArEcnALawfA/6f95gfeJ8x5riI9ABeEpHHgC8BY40xEzv+tNuVsi1UQRjBeIqlG2ETooan6G56U0gx47mEN3j1nOtv5XXK6MN4uQTHOEQIEzYhGqjnYpnHJvMKjeYYeRSyj51MYlacnlnqcyKSWX3DiNkf+8Zbz73/Y4dmiJz9RrTR3y1sI9v58k4FOeQ4vmOhcMaJUCgz4E5Rl+Vr9mfn+APZBYFAVmkgmNnDGF8J7nE3lRpSZixPh56IMeaEiPwBaARuBuZ79z8tImUiUgzMBN7n3f8vETnaYhNVIvI+7/ZAYATQWkGN4Bbsm4A8Y8xO9zAu4I4G+46IzAYc3HNFYzUiLmVbqDmSR473eSFTssg3RQRopky8l/IcZ1GFTYijHGQ0UwHwiQ8f2YRNCAcHYwwRIgjCLrYwkAvwiU7YE22//Gb/2VvW5L/65ft2XyByemFZ01SWMK0x71SQQ44j9eFwRkMonBkIBDIj/kA2/kBWdotTQcoikYwi3PeGgZZjq/hLuxYquEXM6ewOROQyYC5wiTGmyRt8dK6C9XvgUeCuM+6/FXdWjSnGmJCI7GxnO+ejU6cpJKtmc4IG6inp4CDEZk6QTQ6beIUGc4xiShnJRDIlix6mLy/zJN3pRSZZHOcIw2R0jJ9B+lrxWLcpu7fl1v70n9vqs7LNYHAH1mwLFF8Qy/2ecSpIQyiU2RwMZobeOS55qsv15KkgfYA+scykkl5aFtSTVuIWt297xfKQ1w37PPBB4HsichXusU5wu2aOesV0FHBxB7b/XeCRM+4vAQ54xfRyYLB3fwNQ1IXncS4p36wKmzDrePFUQewIg0MD9YxkIiVSxhazlp1sZjhjGSIjGcJIADaZVxjGGN4yO04dVx0mOk97tO14I2/YLZNHH/n1c5vXlnSPTPSbjG1hfGO6si1jaPBOBTnunQoSdI9LZmX43S7XokAgqyQYyuyhp4KoKEvrgnoXcL+IrMMdlFTh3f9N4BERuQ13UFIdbrH7F/AJEXkD2AK8dK6Ne6fMLGrloYeAv4nIeuAVYLO3/GEReV5ENgD/jNKgJGl/keTlGId1vEgfBtFLOj7LYg755JBHiZQB0Iv+7GTLacscN25PfwFFvMkGJsssNprVNJkG8iXan3vU8SOZ3W+eOKboJ3/ftjIyIuu0DntjCBg45ER89eGI78Q7p4JkS7M/6+RxyZOnghQR/Q+mSnVE+hVUY8xdLX68oZVFjgFXG2PCInIJMM0YE/Aeu6YD27+sjfsLve+HgEvaWOaW9rbfSSnbQjXGsIlXKKCIwdK5OdhzJJdck8cJ00CBFHGEAxSeMU1oLRu5kCk4OJw8ICsIEVJiZrGEFAlL1p3vHj2m5J7ez+wuLlnrD2QXBwJZZeFIRgnuWAOdm1olsvQrqB0wCPijiPhwRwN/NIrbjreUbaEe4zB17KaQEl4yywG4gLE4OGxhLUECrOV5Ck0pk2UWAdPMJl5lkswEYCST2EANxjjkUXBqgBLAAfMWRXQjR9xBT4WmhBfNExRRQpGUxv25potIj6JNwRkXljS8LBMPT5XhtvMo1UlaUM9kjNkGTIrW9ixL2YJaKj2YywdafaxXKw2ZHMljEjNP/VwkpVzEla2vL/1P20a5TDjPtKo9oTEDV4ZH9L0IkeysEyAhs85kyXjbuZTqhPQ6bSYNpWyXr0oNJsPXFJgzZo0pyT/tRN/CPTQ06MSDKrmkTAtVC0fr9ICfSlhOUd5O/7WT3zIl+TPOfKzwLaZgTL2FWEp1lRbUFHfMdgClWhMe0uulwJXjupOZ0ep8juKQm32MdfHOpdR5SJkGjBbU1h1tfxGl4sdAJHDpyBWhSUMvxp2ZrE3F23WCd5VUUub9Vo+hti5lfsEq+ZmcrIP+K8e9RU7WnI4sn93IBRIy602WjIt1NqWi4IjtANGiLdTW1dsOoBRApHfJOv81kxxysiZ2Zr3Cvd7lgJRKfCnTgNGC2rqU+QWr5BWcMGRF8JKRoxHp9EUgCvcyGWN0LIBKBtpCTXFaUJU1JtPX4J834cXIsN5zEOnSYRlxyMs+xuvRzqZUlJ2oraoO2Q4RLVpQW6cFVVnhlORv91875aApzG11ms3OKN5O32hkUiqGUqZ1ClpQ26IFVcVd6II+LwQuH9uHDF9UpmbIbmSEhM2GaGxLqRhJqfdaLaitWO4sbcKdj1ipmDMiocCsC58Ljxt8KSIF0dx24V4dYKcSmhbUNFFvO4BKfU5e9n7/dZO3OD2KZ8di+wV7dHCSSmja5ZsmUuqTk0o8kX7dXgtcPTGLrMyxsdqHzyE/+7gOTlIJK6XeZ7Wgti2lftEqcRgwwSnDVwSnj5iISI9Y7694O31ivQ+luiilWqg6U1LbtKCqqDNZGccCV4zbYvJzOjTrUTRkN1AuYbPRZMqYeO1TqQ5KqfdZbaG2rd52AJVaIt0LN/uvnXzM5OdMj/e+C/am1huXShkp1ULVgtq2fbYDqNQRGtV/ZXD26CH4fINs7L/QHZyk0xGqRLPfdoBo0oLatq22A6jkZ3zi9182dmX4wgGzEMm1lcPnkJ91nLW29q9UG1LqfVYLatu22A6gkptTkLvHf92UHaZbwSzbWQBKttPpOYGViqEIsN12iGjSgto2Laiqy8KDeqwOzBtfRGbGhbaznJTdwEgJm022cyjl2VVbVZ1SE+hoQW3DcmdpHeglsFTnGHACF41YEZo8bCoipbbznKngrdQaBKKSWkp194IW1PZoK1V1mMnOPOy/ZtIap1/3OYiI7TytKdzNJIxpsJ1DKVLw/VUL6rml3C9cxUakZ/FG/zWTA+RmT7Gd5Vx8DgVZDTo4SSUEbaGmmZT7havoC40d9FxwxqgR+KSf7SwdUbKdnrYzKEUKvr/qTEnnpi1U1SaT4WsKXDZmjSnOj8nE9rGSfZxREjZvmExJmAFTKi1pQU0zWlBVq5yivB2By8eGyfDNsJ2lKwr2cajRyhQTSgHQBOyxHSLatMv33LYBxnYIlVjCQ3u9FLhyXA8yfCNsZ+kqb3BSo+0cKm29WVtVnXLvrVpQz8G70HjKfYpSXWOEcODSkStCE4dejEiR7TznwxehMKuBNbZzqLSVct29oAW1I7TbV2Fysw74r5280eldGrerxMRacS0xv3ScUm3QgpqmtKCmuUif0tf975oE2VkTbGeJppxjXCgR84btHCotpeT7qg5Kat9m2wGUPcFJQ1dEBvecgUhK/q8UvKWDk5QVr9oOEAsp+SYRZS/bDqDiz2RmHA9cMXaTKchNmS7e1hTuZmLjQHMCkQLbWVTaOAqk5JzS2uXbvjWATtWWRpzSgm3+aycfNgW5F9vOEmu+CEVZjTo4ScXVi6k4whe0oLZrubM0ArxoO4eKj9CIvs8HLhvTnwzfUNtZ4qV4O91tZ1BpZZXtALGiBbVjVtoOoGLLiAQDs0c/Fx47aAYi+bbzxFPOMUZLxKTkIBGVkJ63HSBWtKB2zHO2A6jYcfKz9/mvm7zNKStKqikEoyl/HwdsZ1BpIQjU2A4RK1pQO6YG9w9BpZhw/+6vBq6amENW5hjbWWwq2sUEjDlhO4dKea/VVlX7bYeIFS2oHbDcWeoHVtvOoaLHgAlOHb4iNO2CSYiU2c5jmy9CsQ5OUnGQst29oAW1M7TbN0WYrIx6/7smvRIZ2GMOIvo/4CmupZvtDCrlpeyAJNCC2hk6MCkFRLoXvuG/dkojednTbGdJNDn1jNHBSSrGtIWqAHgBcGyHUF0XunDAyuDs0cPwyQDbWRJV/j7etp1BpayttVXVB22HiCUtqB203Fl6DFhnO4fqPOMTv//ysavCo/rPQiTHdp5E5g1OarKdQ6WklG6dghbUztLjqEnGKczd7b9uyi5TWjDTdpZk4ItQknmC12znUCkppY+fghbUztLjqEkkPKhnTWDu+BIyM0bazpJMirdTajuDSkkp3yDRyfE7RwtqEjAQCV5cvsrpUzobEbGdJ9nk1jOWiNlGhoywnUWljI21VdVv2g4Ra9pC7YTlztK3QbvDEpnJyTzkv2by607fbnO0mHZdwX72286gUsqjtgPEgxbUzvuT7QCqdZGexev975ocIjdrsu0syc4bnNRsO4dKGWlRULXLt/OWAt+xHUKdLjh+8HORYb0vQSTLdpZU4AtTknmC58OFzLCdJdrCR+s5+OAjRBoaQISiSy6m5LJZRE40ceC3vyN85CiZ3bvR68O3kZHf+nUSHL+fvd/5Afnjx9DjA+/HhMO8/avfEK6vp3jmpRTPcl+2Q79fStGMS8gZmNZnau2srapOi549baF20nJn6ZvAWts5lMtk+E74545/ITK8z2wtptFVXEux7Qwx4fPR/YZ3M+ArX6Df5z7N8VXPE6yr49iTT5NXPoKB/+9L5JWP4NiTT7e5iaN//xe5w4ed+rnpjS3kDBtK/y9W0/iKWzsCb+3DOCbdiynAX2wHiBctqF2j3b4JwCnOq/VfN6XOFOVdajtLKso9yjgiJuUGkmSWFJ8qcr7cXLJ79yZSf5ymDRspnD4VgMLpU2lav7HV9QN79hJpaCRvVPmp+yTDhwkGwXHAuNfOrv/Hv+h23dUxfjZJ4c+2A8SLFtSuWWo7QLoLD+v9YuCKcb3I8A23nSWVFdSxz3aGWAodPkJg71vkDBlEpKGBzBK3UZ5RXOR2CZ/BOA5H/vIY3W+4/rT780aWEz5ylH0//AnFs2dyYv1Gsgf0J7OkJC7PI4EdIA0mdDhJj6F2wXJn6dZ5vgXrgPG2s6QbI4SDM0Y97/QsmWM7Szoo2sn4E/2MH5Fc21mizQkEOHD/Esre/158uac/PXeA+NmDxBtWvUDe6AvJLC09ffmMDHpV3AqAiUSou++X9P7Ihzn86GOEjx6lcNpUCsal5RUC/1pbVZ02U7ZqQe26P6EFNa6cvOy6wBXjDpCdqcU0TnxhSjObeD5ckFqDk0wkwoH7l1A4dTIFE8YBkFFURPjYcTJLigkfO05GUeFZ6/l37sK/fQcNq17ACQQw4Qi+7By6v+e6U8scX/kChdOmEti5G19uLr3uuI26n/08XQtqWozuPUkLatctBb5lO0S6iPQtXRu8qLw/IvohJs6Kayk6Ms52iugxxnDokT+S1bs3JZe/89ksf+xoGmteoXTeFTTWvEL+2LMLYK/bbz11u+Hl1QT27DmtmEaammjauIk+n/woTRs3gc9t5TqhUAyfUcI6DjxlO0Q86THULlruLN0MbLCdIx0EJw9bEbyofBwiPW1nSUe5RxiPY7bbzhEtgdqdNK5+leatb/LW93/IW9//IU0b36Bk7hU0b9nKnm//D81bt1Ey9wp3+d17OPjIHzu07fp/Laf0qisRn4+8USPxb9/BW9+7h8JpU2L5lBLV32urqoO2Q8STGG9Emuq8eb4F3wDusp0jVZmsjGOBy8dtNgU5F9nOku7qL2BFU3/RrnbVGR+srapOqwGc2kI9P2n1xxJPTmnBNv+1k+u1mCaG4p2Mxxi/7RwqaTQD/7QdIt60oJ6H5c7STcAbtnOkmlB5v+cDl43pj8832HYW5fKF6ZbZpPNYqw77Y21VdaPtEPGmBfX8aSs1SoxPAv45Y1aGxwycgUjrc74pa4prOXvYq1Ktu892ABu0oJ6/3wJpc55VrDgFOXv9107ZbroXzrKdRbXOG5xUazuHSnhraquqX7YdwgYtqOdpubN0B/C47RzJLDyg7JXAvAn5ZGWMtp1FnVt+HXtsZ1AJLy1bp6AFNVp+YjtAMjJggtMuWBGaOnwyIt1t51HtK9rJOIwJ2M6hEtZx4GHbIWzRghoFy52lTwGbbOdIJiY786j/XZNejQwom4OI/h0miYwQ3TObeNV2DpWwfldbVX3Cdghb9I0sen5qO0CyiJQVbfJfM/kEedlTbWdRnVe8gwLbGVTCStvuXtCCGk2/A+pth0h0odEDVwZnXTgcn6T9RSKTVe5hJuCYHbZzqISzsraquvVr3qUJLahRstxZegL4je0cicr4fM3+K8auCo/sNwuRHNt51PnJr2O37Qwq4fzcdgDbtKBG18/QU2jO4hTl7vJfN3m3KSmYaTuLio6inYzFmLSap1Wd00HcK3ClNS2oUbTcWVoL/MN2jkQSHtzz5cCV40vJzBhpO4uKnowQZRnNOjhJnXJ/uk2E3xotqNGnp9AABiKBS0auCE0aOh2REtt5VPQV7yDPdgaVEAzwC9shEoEW1Oh7EthsO4RNJifroP/ayeudPqVzEBHbeVRs5B5iAo7ZaTuHsu6ftVXVOkgNLahRt9xZanCPpaalSK+S9f5rJkXIyZpoO4uKLQHJf5tdtnMo675tO0Ci0IIaG0twZwxJK8EJg58LXjpyFCJ9bGdR8VG0gzE6OCmt/au2qvol2yEShRbUGFjuLG0Efmk7R7yYDF+jf974FyPD+sxGJMt2HhU/GSF66OCktPZ12wESiRbU2PkeadBKdUryt/uvm3LAFOZdYjuLsqN4B7m2Mygr/l5bVb3adohEogU1RpY7Sw8B99jOEUuhC/q8ELh8bG8yfMNsZ1H25B5iIo7RY6np5xu2AyQaLaix9UPggO0Q0WZEQoGZF64Ijxt8KSJ60ek0JyB5B9hpO4eKq8dqq6q1q/8MWlBjyDuWerftHNHk5GXv9187ebPTs3iO7SwqcRTvYDTGhGznUHFh0NZpq7Sgxt7PITU+vUf6dlsTuHpiJtmZ42xnUYklI0jPDL8OTkoTj9ZWVa+1HSIRaUGNseXO0iBJ/mnOgAlOHrYieNGI8Yj0tJ1HJabiHWTbzqBizgB32Q6RqLSgxseDwAbbIbrCZGUcC1w9cXVkcM85iGTYzqMSV+5BJuEYvQpNavtTbVX1etshEpUW1DhY7ix1gK/aztFZTreCLf5rJ9eb/JzptrOoxOcNTtIp6FKXA3zTdohEpgU1TpY7Sx8DXrCdo6NCI/utCswZMwifb7DtLCp56OCklPbHdL+AeHu0oMbXl2wHaI/xScB/2ZiV4dEDZyKiVxNRnaKDk1JWAPh/tkMkOi2ocbTcWboS+KftHG1xCnL2+q+bUmu6Fc6ynUUlr6Id6PSTqeee2qrqN22HSHRaUOPvy7gj5RJKeGDZK4F5EwrIzLjQdhaV3PIOMhnH7LWdQ0XNHlLsfPpY0YIaZ8udpa8Dv7Od4yQDTmD6iBWhKcOnINLNdh6V/AQk7yDbbedQUbOwtqq6yXaIZKAF1Y5q4JDtECY784j/mklrnP7d9ULgKqqKaxmFMWHbOdR5e7q2qvqPtkMkCy2oFngT53/GZoZIj6KN/msmN5ObPcVmDpWaMoL01sFJSS8MfNp2iGSiBdWS5c7Sh4G/29h3aOyg54IzLxyBT/rb2L9KD0U70YlAktuPaquqN9kOkUy0oNr1SaAhXjszGb4m/5Xjng+P6DsbEZ0mTsVU3gEdnJTEdqJTDHaaFlSLljtL9xCnc1Odoryd/msnv2WK82fEY39KCfjyDungpCT1SR2I1HlaUO27D1gVyx2Eh/R6KXDluO5kZoyI5X6UOlNxLSMxJmI7h+qUR2qrqv9lO0Qy0oJq2XJnqQE+gjsTSVQZiAQuHbkiNGnoxYgUR3v7SrUnI0CfjIAOTkoiR4HP2g6RrMSYhJtjIC3N8y34ClE8edrkZh3wXzFuHzlZE6O1zXQVaKpn6yu/JxRoAIQ+Qy+i3wWzCAWb2FLzIIETR8kp6Mao6R8iMzu/lfWP8uZrSwk0HwNg9KWV5BZ0Z8vqh2k6tp/ufUYzeOw1AOzZ/CT5xX0o6zc2nk8xppp6s7p+lEyznUN1yEdqq6oXn+9GRKQMeMr7sQ8QAQ56P083xgS7uN3LgKAxJiHnRc+0HUCd8n3gg8CE891QpHfJuuAlI3sjMvG8UylEfAwddz2F3QYQDvl5/ZkfU9qrnAO7VlPa8wIGzLyCvVueZu/WZxgy9rqz1t/6yu8ZOPJKSnuXEwkHAOHEsX34fFlMmlvNhlW/JBxqxgmHaDiym4Gj5sb/ScZQ3ttMqR9p9iHSz3YWdU7/Au6PxoaMMYeBiQAichfQaIxZFIVNXwY00okLjYhIponTOdHa5ZsgljtLw0Al7ie5LgtOGLIieMnI0Yj0jk4ylZ1XTGG3AQBkZuWSX9SLYPMxDu/fRK9BUwHoNWgqh/edfSGOpuNvY4xDae9yADIyc8jIzEYkA8cJYYyDcSKI+Nj9xr8ZdOFV8XticSLgyz3INts51DnVARW1VdUx67IUkStFZI2IrBeR+0Ukx7v/6yKyWkQ2iMgvxZtkRkSqRGSTiKwTkd+LyBDgE8DnRGStiMwSkZ4issxbf7WIzPDWvUtEficizxPHmem0oCaQ5c7SV4EfdmVdk+lr8M+b8GJkWO85iGjPQ4z4TxyhsX4fhd0HEQo0kJ3nHprOyi3yuoRP19x4kMysPN54aQlrn/oRO9Y/jjEO+cW9ycou4PWn/5fufUfT3HgIY8ypwp1qimsp18FJCcsAt9VWVR+I4T5ygd8CNxpjxuH2jn7Se+xnxphpxpixQB5wvXf/l4BJxpjxwCeMMTuBnwM/MsZMNMasBH7s/TwNmA/8usU+RwNzjTE3x/B5nUbfeBPPN4D3ARd0dAWnJP/NwJwxGWT4LoldLBUJB9j88gMMG/8eMrNyT3vM/VB99uyNxjgcP7SDiVd+lpy8UrbUPMiBXa/Qe8h0hk1476nlNr1wP8MnzWfP5qc4cWwfpb3K6TP0olg/pbjJDNDXF2C1k4seS00836+tqn4yxvvIAHYYY7Z6Py8BPgX8L3C5iHwByAe6AxuBvwHrgIdE5C/AX9rY7lxgdIuZU4tFpNC7/Zgxpjm6T+PctIWaYJY7S5uBW4AOHbQPjej7fODysX3J8A2NbbL05jgRNr/0AD0HTqKs/zgAsnKKCDYfByDYfJysnMKz1svJK6GgtB+5BWWIL4Pu/cbSWH/6XAeH922gsHQATjiI/8RhRl10G4ffWkck3KVxGwmreKftBKoVLwNfs7VzEckF7gU+4LVcf4XbmgW4Dvg/YDKwWlrvefMBF3st1onGmP7GmEbvsRMxjt9qGJVgljtLVwNfONcyRiQUmDX6ufDYQTMQKYhTtLRkjOHN1/5IXlEv+o+Yc+r+7n1Hc2D3KwAc2P0KZX1Hn7VuYbeBhEPNhALu//ixA2+SX/TO4W3HibDvzVX0L78MJxJqsU/32GoqyXubyRiz33YOdcpx4Obaqup4DNiJAENE5GTP223ACt4pnoe8luUHAETEBww0xjwDfBEoAQpxZ5YrarHdJ2gx37BYHoipBTVBLXeW/hh4tLXHnLzs/f7rJm9xehTNjnOstNRweCcHd7/GsYNvsvapH7L2qR9ypO4NBpRfTv2Bbbz67+9Rf2Ab/Ude4S5/dA/bXl0KeCOEx17PhpW/YM2T9wCG3i26cutqX6DX4ClkZGaTX9IXJxJizZP3UNhtAJnZeTaebswIZOQeYmv7S6o4+XhtVfWOOO3LD3wYWCoi6wEH+Lkxph63VboB+Dew2ls+A3jQW3YN8BNv2b8B7zs5KAmoAqZ6A5c24Q5askbPQ01g83wLSoHXgFPduZF+3V4LTh8xCJEe1oIp1UXhHPYduIjeiOjE+XbdX1tVXWk7RKrRFmoCW+4srcc9NzVowASnDF8RnD5iohZTlawyA/TzBXjNdo40txm3ZaeiTAtqglvuLH3FZGd+JnD1xNWRQT3m4B5bUCppFe1Cu8XsCQA31VZVx33ATjrQN+ck8KT/kZ+b/Jw3bedQKhry65iig5Os+a/aqurXbYdIVVpQk8dHgbW2Qyh1vnRwkjV/rq2q/qntEKlMC2qSWLVsYRPuhA+HbWdR6nwV13IBxji2c6SR1binqqgY0oKaRFYtW7gTuJnznO9XKdsy/fT3BXVwUpzsAt6tFwyPPS2oSWbVsoXLga/azqHU+SrahbZQY+8YcF1tVfXbtoOkAy2oSWjVsoXfAx60nUOp85Ffx2SMqbOdI4WFgQ/UVlWffRkkFRNaUJPXf+Bev1CppCSGzNzDbLGdI4V9Mg6T3qsWtKAmqVXLFoZwL1f0ku0sSnVV8XaG6+CkmPhebVX1r9tfTEWTFtQk5o38vQ54w3YWpboi088AX5A1tnOkmKXAl22HSEdaUJPcqmULjwBXA3tsZ1GqK4p2EY+rnaSLl4Dba6uqdTYqC7SgpoBVyxbuwS2qeo6qSjrezEkHbOdIAbXAe2qrqv22g6QrLagpYtWyhW/gdv/qHJ0qqYghM+ewHrY4T0dxT485aDtIOtOCmkJWLVv4Mu4FekPtLatUIimpZRh6LcmuOgZcU1tVvdl2kHSnBTXFrFq28F/AHaBX9FDJI7OZgb6QDk7qgnpgXm1V9cu2gygtqClp1bKFDwOfs51Dqc4o2kXQdoYkcxSYW1tVvdp2EOXSgpqiVi1b+GPgbts5lOqo/P1MwRg9BtgxR3CL6au2g6h3aEFNYauWLfwa8HXbOZTqCDFk5Rxhk+0cSeAwcGVtVbVeXCDBaEFNcauWLfw28Gn0mKpKAsXbGaKDk87pEG4xXWs7iDqbFtQ0sGrZwp8Bt4OeQK8SW1Yzg30h1trOkaAOAlfUVlW/bjuIap0W1DSxatnCB4H3A3rSt0pohbv0b7QVB3CL6XrbQVTbtKCmkVXLFv4NuAZosJ1FqbYU7GeqDk46zdvA5bVV1RtsB1HnpgU1zaxatvBZ4HLcYzFKJRwdnHSa/bjFVF+PJKAFNQ2tWrbwVWA2sNd2FqVaU1yrg5OA14GLaquqdVrGJKEFNU15c//OBLbZzqLUmbKa0n5w0t+AmbVV1XoVqSSiBTWNrVq2cBcwC/eTsFIJpXB32g5O+iFwQ21VdaPtIKpzRHtV1Mz5i0qBPwBXWY6i1ClGCO6fxXFEetjOEich4M7aqupf2w6iukZbqIpVyxbW447+/R/LUZQ6RQzZOUfZaDtHnBwFrtZimty0hapOM3P+ovcDvwWKLEdRilA+Ow9OkyG2c8TYNuD62qrqrbaDqPOjLVR1mlXLFv4ZuAjYYjuLUllNDPEFzVrbOWLoGeBiLaapQQuqOos3Ang68FfbWZQq3EOT7Qwx8mvcbt4jtoOo6NAuX9WmmfMXCfBV4Jvohy9liREC+2fRiEiZ7SxREgG+WFtVfY/tICq6tKCqds2cv+ga4CGgm+0sKj0dGs+KYDeZYztHFOwEbq2tqn7BdhAVfdrqUO1atWzhP4FpwDrbWVR6KtnOINsZouAhYIIW09SlLVTVYTPnL8oHFgM32c6i0s/+S3ndZMkE2zm64Dju+aUP2Q6iYksLquq0mfMX3QH8L1BiN4lKJ40DeeH4MLnUdo5OegH4UG1V9Q7bQVTsaZev6rRVyxb+FhgD/NNyFJVGCvYyBWOO2s7RQRHcwXyztZimD22hqvMyc/6iDwM/QlurKg6SZHDSTtxW6fO2g6j40haqOi+rli38DTAW+JftLCr1lWxngO0M7XgYmKjFND1pC1VFzcz5iypxr5RRbDuLSl37L2WdyZLxtnOc4Tjwqdqq6gdtB1H2aAtVRc2qZQsX47ZWn7CdRaWuwj002M5whoeAkVpMlbZQVUzMnL/oI8A9aGtVRZnx4d8/Ez8ipZajbMBtlT5nOYdKENpCVTGxatnCX+O2Vv9tO4tKLeKQm33M6iQjx4HPA5O0mKqWtIWqYm7m/EXXAT8ALrSdRaWGUCHbD06R4RZ2/RCwsLaqus7CvlWC04Kq4mLm/EWZwEdxz83raTmOSgH7L2W9yZJxcdqddu+qdmlBVXE1c/6iYuDLwGeBXLtpVDJrGMTzDUNlRox3cxy4C/hpbVV1OMb7UklOC6qyYub8RYOA7wC3AGI5jkpCcRicpN27qlO0oCqrZs5fNA13NPAs21lU8jk0geeCpTI7ypt9HPhWbVX16ihvV6U4LagqIcycv+h9wPeBC2xnUckjWMi2Q1NkRJQ291fcQvpalLan0owWVJUwZs5flAV8Evgi0M9yHJUk9s9gg8mUsV1c3QB/wS2ka6MWSqUlLagq4cycvygb99jqQtyr2ijVpi4OTjLAn4Fv11ZVvx6DWCoNaUFVCWvm/EUCXAP8F3CZ3TQqURkfzftnEkSkI1c8coA/4RbSDTGOptKMFlSVFGbOXzQVt7DOBzIsx1EJ5tBEnguWnHNwkgP8EbeQbopTLJVmtKCqpDJz/qKhwOeASiDfchyVIIJFbD00WcpbeagB+B3ueaSb4xxLpRktqCopzZy/qDtwJ/BpoJflOCoB7J/BRpMpJ4+5rwfuA35XW1XdaDGWSiNaUFVSmzl/US7wIeAOINaz5qgE1jCIFQ1DZT9wb21V9UrbeVT60YKqUobXHfwh4DYgWucmqsS3Abgf+N2qZQsP2Q6j0pcWVJWSZs5fdBFucb0J6GE5joq+Y8AjwP2rli3UGY1UQtCCqlKaN1nEu3Bbre9GJ+RPZk3AcmAp8OdVyxY2W86j1Gm0oKq0MXP+ohLgA7jFdTY6KX8yeBt3bt2/Ak9qEVWJTAuqSkve1W7eA1yLO2lEntVAqqU3gMdwi+jLq5YtdCznUapDtKCqtDdz/qI83KJ6Le7MTMOtBko/EeAFvCK6atnCbZbzKNUlWlCVOsPM+YtGAHOBK3ALrQ5qir49wIvAP4HHdXSuSgVaUJU6B28+4fHAlbgFdhZQbDVU8vEDr+IW0JeAF1ctW7jPbiSlok8LqlKd4BXYC4CJZ3zp5ebesQOvcHrf165atjBkN5JSsacFVakomDl/UU/OLrIjSe2J/IO4xXM77lR/LwIvrVq28G2rqZSyRAuqUjHiTYs4Fre4jgYGAP29r75AtrVwHdeAWzBPfr3Z4vYeHYGr1Du0oCplgdd13IN3CuzJr35n/FwW5V2HgOO4Mw21/H7y9gFaFNBVyxYeiPL+lUpZWlCVSmBe4c32vnJa3D7z68zHoJXCqRMjKBU7WlCVUkqpKPDZDqCUUkqlAi2oSimlVBRoQVVKKaWiQAuqUkopFQVaUFWXiUhERNaKyOsi8pqIXOrd309E/mQx110istDW/pVS6SnTdgCV1JqNMRMBRORq4LvAHGPMPtzrjp43EckwxkSisS2llIolbaGqaCkGjgKIyBAR2eDdzhWR34jIehFZIyKXe/fni8gfRWSTiDwqIi+LyFTvsUYRuUdEXgcuEZGvi8hqEdkgIr8UEfGWe1ZEfuy1kjeIyPQWeUZ7j9eKSJW3/LdE5LMnFxCRu0XkM/F4cZRSqU9bqOp85InIWiAXdyq9K1pZ5lOAMcaME5FRwBMiUg7cCRw1xowWkbHA2hbrFAAvG2OqAURkkzHmW97t3wHXA3/zls03xkwUkdnA/bhT/QGMAi4HioAtInKf9/ifgf8VER9wE9CyCCulVJdpC1Wdj2ZjzERjzCjgXcADJ1uPLcwEHgQwxmwGdgHl3v2/9+7fAKxrsU4EWNbi58u9Fux63KI9psVjj3jbeA4oFpFS7/6/G2MCxphDuNPp9TbG7AQOi8gk4CpgjTHm8Pm8AEopdZK2UFVUGGNeFJEeQM8obM5/8ripiOQC9wJTjTF7ROQu3BbxqV2fGcX7HmhxX4R3/tZ/DdwB9MFtsSqlVFRoC1VFhdedmwGc2eJbCdzqLVMODAK2AM8DH/TuHw2Ma2PTJ4vnIREp5OzBTjd625gJHDPGHGsn6qO4relpwL/bWVYppTpMW6jqfJw8hgogQIUxJnJGr++9wH1ed20YuMMYExCRe4ElIrIJ2AxsxJ3A/TTGmHoR+RWwAagDVp+xiF9E1gBZwH+0F9gYExSRZ4B6HT2slIomnRxfWSEiGUCWMcYvIsOBJ4GRxphgJ7bxLLDQGPNKJ9bxAa8BC4wx2zoZWyml2qQtVGVLPvCMiGThtm7v7Ewx7Qqva/lx4FEtpkqpaNMWqlJKKRUFOihJKaWUigItqEoppVQUaEFVSimlokALqlJKKRUFWlCVUkqpKNCCqpRSSkWBFlSllFIqCrSgKqWUUlGgBVUppZSKAi2oSimlVBRoQVVKKaWiQAuqUkopFQVaUJVSSqko0IKqlFJKRYEWVKWUUioKtKAqpZRSUaAFVSmllIoCLahKKaVUFGhBVUoppaJAC6pSSikVBVpQlVJKqSjQgqqUUkpFgRZUpZRSKgq0oCqllFJRoAVVKaWUigItqEoppVQUaEFVSimlokALqlJKKRUFWlCVUkqpKNCCqpRSSkWBFlSllFIqCrSgKqWUUlGgBVUppZSKAi2oSimlVBT8fzT9J+bzVKnyAAAAAElFTkSuQmCC\n",
       "datasetInfos": [],
       "metadata": {},
       "removedWidgets": [],
       "type": "image"
      }
     },
     "output_type": "display_data"
    }
   ],
   "source": [
    "pd_top_products_delays=df_top.toPandas()\n",
    "plt.figure(figsize=(8,8))\n",
    "labels = pd_top_products_delays[\"product_name\"]\n",
    "sizes = pd_top_products_delays[\"avg_delay_days\"]\n",
    "cmap = plt.get_cmap(\"viridis\")\n",
    "colors = cmap(np.linspace(0, 1, len(labels)))  \n",
    "plt.pie(sizes,labels=labels,autopct='%1.1f%%',startangle=140,colors=colors)\n",
    "plt.title('Average delay days for Top 10 Products')\n",
    "plt.axis=('equal')\n",
    "plt.show()"
   ]
  }
 ],
 "metadata": {
  "application/vnd.databricks.v1+notebook": {
   "computePreferences": null,
   "dashboards": [],
   "environmentMetadata": {
    "base_environment": "",
    "client": "1"
   },
   "language": "python",
   "notebookMetadata": {
    "pythonIndentUnit": 4
   },
   "notebookName": "Pyspark_project",
   "widgets": {}
  }
 },
 "nbformat": 4,
 "nbformat_minor": 0
}
